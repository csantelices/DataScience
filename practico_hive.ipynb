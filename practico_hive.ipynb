{
  "nbformat": 4,
  "nbformat_minor": 0,
  "metadata": {
    "colab": {
      "name": "practico_hive.ipynb",
      "provenance": [],
      "collapsed_sections": [],
      "include_colab_link": true
    },
    "kernelspec": {
      "name": "python3",
      "display_name": "Python 3"
    }
  },
  "cells": [
    {
      "cell_type": "markdown",
      "metadata": {
        "id": "view-in-github",
        "colab_type": "text"
      },
      "source": [
        "<a href=\"https://colab.research.google.com/github/csantelices/DataScience/blob/master/practico_hive.ipynb\" target=\"_parent\"><img src=\"https://colab.research.google.com/assets/colab-badge.svg\" alt=\"Open In Colab\"/></a>"
      ]
    },
    {
      "cell_type": "markdown",
      "metadata": {
        "id": "homuYgiTZZcB"
      },
      "source": [
        "# Apache Hive"
      ]
    },
    {
      "cell_type": "markdown",
      "metadata": {
        "id": "Zrc6HOW_2NfC"
      },
      "source": [
        "# New Section"
      ]
    },
    {
      "cell_type": "markdown",
      "metadata": {
        "id": "QB-ToyYi2N73"
      },
      "source": [
        "# New Section"
      ]
    },
    {
      "cell_type": "markdown",
      "metadata": {
        "id": "w-Vm6aG7bmkH"
      },
      "source": [
        "## Instalación Hadoop y creación de base de datos"
      ]
    },
    {
      "cell_type": "code",
      "metadata": {
        "id": "7p1NNpmLJP9n",
        "colab": {
          "resources": {
            "http://localhost:8080/nbextensions/google.colab/files.js": {
              "data": "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",
              "ok": true,
              "headers": [
                [
                  "content-type",
                  "application/javascript"
                ]
              ],
              "status": 200,
              "status_text": ""
            }
          },
          "base_uri": "https://localhost:8080/",
          "height": 89
        },
        "outputId": "e5b5f2a6-0595-478c-bc63-bdeaa06a9c61"
      },
      "source": [
        "from google.colab import files\n",
        "\n",
        "uploaded = files.upload()\n",
        "\n",
        "for fn in uploaded.keys():\n",
        "  print('User uploaded file \"{name}\" with length {length} bytes'.format(\n",
        "      name=fn, length=len(uploaded[fn])))"
      ],
      "execution_count": null,
      "outputs": [
        {
          "output_type": "display_data",
          "data": {
            "text/html": [
              "\n",
              "     <input type=\"file\" id=\"files-9a923ccc-ba56-4a45-a63e-a58b08dd20df\" name=\"files[]\" multiple disabled\n",
              "        style=\"border:none\" />\n",
              "     <output id=\"result-9a923ccc-ba56-4a45-a63e-a58b08dd20df\">\n",
              "      Upload widget is only available when the cell has been executed in the\n",
              "      current browser session. Please rerun this cell to enable.\n",
              "      </output>\n",
              "      <script src=\"/nbextensions/google.colab/files.js\"></script> "
            ],
            "text/plain": [
              "<IPython.core.display.HTML object>"
            ]
          },
          "metadata": {
            "tags": []
          }
        },
        {
          "output_type": "stream",
          "text": [
            "Saving hadoop_colab_installer.py to hadoop_colab_installer.py\n",
            "User uploaded file \"hadoop_colab_installer.py\" with length 13498 bytes\n"
          ],
          "name": "stdout"
        }
      ]
    },
    {
      "cell_type": "code",
      "metadata": {
        "id": "0YJqLoA8HCJx",
        "colab": {
          "base_uri": "https://localhost:8080/"
        },
        "outputId": "506ab122-b8aa-4420-c08b-27f9d239440d"
      },
      "source": [
        "exec(open('hadoop_colab_installer.py').read())"
      ],
      "execution_count": null,
      "outputs": [
        {
          "output_type": "stream",
          "text": [
            "Active services:\n",
            "2388 Jps\n",
            "2213 NodeManager\n",
            "2005 DataNode\n",
            "1852 ResourceManager\n",
            "2350 JobHistoryServer\n",
            "1934 NameNode\n",
            "\n"
          ],
          "name": "stdout"
        }
      ]
    },
    {
      "cell_type": "code",
      "metadata": {
        "id": "mIIHE5VKmNcv"
      },
      "source": [
        "!hdfs dfs -ls /user/hive/warehouse"
      ],
      "execution_count": null,
      "outputs": []
    },
    {
      "cell_type": "code",
      "metadata": {
        "id": "0sOrJ2Ckz98W",
        "colab": {
          "resources": {
            "http://localhost:8080/nbextensions/google.colab/files.js": {
              "data": "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",
              "ok": true,
              "headers": [
                [
                  "content-type",
                  "application/javascript"
                ]
              ],
              "status": 200,
              "status_text": ""
            }
          },
          "base_uri": "https://localhost:8080/",
          "height": 89
        },
        "outputId": "2165b823-143c-4c6c-c488-66991df42868"
      },
      "source": [
        "from google.colab import files\n",
        "\n",
        "uploaded = files.upload()\n",
        "\n",
        "for fn in uploaded.keys():\n",
        "  print('User uploaded file \"{name}\" with length {length} bytes'.format(\n",
        "      name=fn, length=len(uploaded[fn])))"
      ],
      "execution_count": null,
      "outputs": [
        {
          "output_type": "display_data",
          "data": {
            "text/html": [
              "\n",
              "     <input type=\"file\" id=\"files-01782e05-2eea-4d41-9495-356427c8a0be\" name=\"files[]\" multiple disabled\n",
              "        style=\"border:none\" />\n",
              "     <output id=\"result-01782e05-2eea-4d41-9495-356427c8a0be\">\n",
              "      Upload widget is only available when the cell has been executed in the\n",
              "      current browser session. Please rerun this cell to enable.\n",
              "      </output>\n",
              "      <script src=\"/nbextensions/google.colab/files.js\"></script> "
            ],
            "text/plain": [
              "<IPython.core.display.HTML object>"
            ]
          },
          "metadata": {
            "tags": []
          }
        },
        {
          "output_type": "stream",
          "text": [
            "Saving chilean_bands_database.sql to chilean_bands_database.sql\n",
            "User uploaded file \"chilean_bands_database.sql\" with length 1635 bytes\n"
          ],
          "name": "stdout"
        }
      ]
    },
    {
      "cell_type": "code",
      "metadata": {
        "id": "T_C4VKH7HgbF",
        "colab": {
          "base_uri": "https://localhost:8080/"
        },
        "outputId": "84489980-9c36-4a32-c237-dd13db61826a"
      },
      "source": [
        "!mysql -u root --password=password testdb < chilean_bands_database.sql"
      ],
      "execution_count": null,
      "outputs": [
        {
          "output_type": "stream",
          "text": [
            "mysql: [Warning] Using a password on the command line interface can be insecure.\n"
          ],
          "name": "stdout"
        }
      ]
    },
    {
      "cell_type": "code",
      "metadata": {
        "id": "zg9crNE9kV7K",
        "colab": {
          "base_uri": "https://localhost:8080/"
        },
        "outputId": "f1ce5102-b5e4-489b-9622-f1e468a8dc59"
      },
      "source": [
        "!mysql -u root -p testdb"
      ],
      "execution_count": null,
      "outputs": [
        {
          "output_type": "stream",
          "text": [
            "Enter password: \n",
            "Reading table information for completion of table and column names\n",
            "You can turn off this feature to get a quicker startup with -A\n",
            "\n",
            "Welcome to the MySQL monitor.  Commands end with ; or \\g.\n",
            "Your MySQL connection id is 8\n",
            "Server version: 5.7.35-0ubuntu0.18.04.1 (Ubuntu)\n",
            "\n",
            "Copyright (c) 2000, 2021, Oracle and/or its affiliates.\n",
            "\n",
            "Oracle is a registered trademark of Oracle Corporation and/or its\n",
            "affiliates. Other names may be trademarks of their respective\n",
            "owners.\n",
            "\n",
            "Type 'help;' or '\\h' for help. Type '\\c' to clear the current input statement.\n",
            "\n",
            "mysql> show database;\n",
            "ERROR 1064 (42000): You have an error in your SQL syntax; check the manual that corresponds to your MySQL server version for the right syntax to use near 'database' at line 1\n",
            "\u0007mysql> show database\n",
            "    -> ;\n",
            "ERROR 1064 (42000): You have an error in your SQL syntax; check the manual that corresponds to your MySQL server version for the right syntax to use near 'database' at line 1\n",
            "\u0007mysql> show databases;\n",
            "+--------------------+\n",
            "| Database           |\n",
            "+--------------------+\n",
            "| information_schema |\n",
            "| mysql              |\n",
            "| performance_schema |\n",
            "| sys                |\n",
            "| testdb             |\n",
            "+--------------------+\n",
            "5 rows in set (0.00 sec)\n",
            "\n",
            "mysql> show tables;\n",
            "+------------------+\n",
            "| Tables_in_testdb |\n",
            "+------------------+\n",
            "| Albums           |\n",
            "| Artists          |\n",
            "+------------------+\n",
            "2 rows in set (0.01 sec)\n",
            "\n",
            "mysql> select * from Albums;\n",
            "+----------+-------------------------+------+-----------+\n",
            "| album_id | name                    | year | artist_id |\n",
            "+----------+-------------------------+------+-----------+\n",
            "|        1 | Desiertos               | 1990 |         1 |\n",
            "|        2 | Doble opuesto           | 1991 |         1 |\n",
            "|        3 | La Ley                  | 1993 |         1 |\n",
            "|        4 | Invisible               | 1995 |         1 |\n",
            "|        5 | Vertigo                 | 1998 |         1 |\n",
            "|        6 | Uno                     | 2000 |         1 |\n",
            "|        7 | Libertad                | 2003 |         1 |\n",
            "|        8 | Adaptacion              | 2016 |         1 |\n",
            "|        9 | Los Tres                | 1991 |         2 |\n",
            "|       10 | Se remata el siglo      | 1993 |         2 |\n",
            "|       11 | La espada & la pared    | 1995 |         2 |\n",
            "|       12 | Fome                    | 1997 |         2 |\n",
            "|       13 | La sangre en el cuerpo  | 1999 |         2 |\n",
            "|       14 | Hágalo usted mismo      | 2006 |         2 |\n",
            "|       15 | Coliumo                 | 2010 |         2 |\n",
            "|       16 | La voz de los 80        | 1984 |         3 |\n",
            "|       17 | Pateando piedras        | 1986 |         3 |\n",
            "|       18 | La cultura de la basura | 1987 |         3 |\n",
            "|       19 | Corazones               | 1990 |         3 |\n",
            "|       20 | Los Prisioneros         | 2003 |         3 |\n",
            "|       21 | Manzana                 | 2004 |         3 |\n",
            "+----------+-------------------------+------+-----------+\n",
            "21 rows in set (0.00 sec)\n",
            "\n",
            "mysql> select * from Artists;\n",
            "+-----------+-----------------+\n",
            "| artist_id | name            |\n",
            "+-----------+-----------------+\n",
            "|         1 | La Ley          |\n",
            "|         2 | Los Tres        |\n",
            "|         3 | Los Prisioneros |\n",
            "+-----------+-----------------+\n",
            "3 rows in set (0.00 sec)\n",
            "\n",
            "mysql> exit\n",
            "Bye\n"
          ],
          "name": "stdout"
        }
      ]
    },
    {
      "cell_type": "markdown",
      "metadata": {
        "id": "KEI6uXtl5eyn"
      },
      "source": [
        "## Sqoop"
      ]
    },
    {
      "cell_type": "markdown",
      "metadata": {
        "id": "K9AuNnPEDkk4"
      },
      "source": [
        "**Modo de uso:**\n",
        "\n",
        "sqoop \\<command\\> \\<parameters\\>"
      ]
    },
    {
      "cell_type": "code",
      "metadata": {
        "id": "savV_6uM_du0",
        "colab": {
          "base_uri": "https://localhost:8080/"
        },
        "outputId": "259df967-799b-42d2-b59d-10626a5ca868"
      },
      "source": [
        "!sqoop list-databases --connect jdbc:mysql://localhost \\\n",
        "                      --username root \\\n",
        "                      -P"
      ],
      "execution_count": null,
      "outputs": [
        {
          "output_type": "stream",
          "text": [
            "21/08/02 20:03:09 INFO sqoop.Sqoop: Running Sqoop version: 1.4.7\n",
            "Enter password: \n",
            "21/08/02 20:03:18 INFO manager.MySQLManager: Preparing to use a MySQL streaming resultset.\n",
            "Loading class `com.mysql.jdbc.Driver'. This is deprecated. The new driver class is `com.mysql.cj.jdbc.Driver'. The driver is automatically registered via the SPI and manual loading of the driver class is generally unnecessary.\n",
            "information_schema\n",
            "mysql\n",
            "performance_schema\n",
            "sys\n",
            "testdb\n"
          ],
          "name": "stdout"
        }
      ]
    },
    {
      "cell_type": "code",
      "metadata": {
        "id": "iUyl6XhTa7Wu",
        "colab": {
          "base_uri": "https://localhost:8080/"
        },
        "outputId": "b6e789cc-628c-4990-f976-87f9137f253a"
      },
      "source": [
        "!sqoop list-tables --connect jdbc:mysql://localhost/testdb \\\n",
        "                   --username root \\\n",
        "                   -P"
      ],
      "execution_count": null,
      "outputs": [
        {
          "output_type": "stream",
          "text": [
            "21/08/02 20:04:36 INFO sqoop.Sqoop: Running Sqoop version: 1.4.7\n",
            "Enter password: \n",
            "21/08/02 20:04:42 INFO manager.MySQLManager: Preparing to use a MySQL streaming resultset.\n",
            "Loading class `com.mysql.jdbc.Driver'. This is deprecated. The new driver class is `com.mysql.cj.jdbc.Driver'. The driver is automatically registered via the SPI and manual loading of the driver class is generally unnecessary.\n",
            "Albums\n",
            "Artists\n"
          ],
          "name": "stdout"
        }
      ]
    },
    {
      "cell_type": "code",
      "metadata": {
        "id": "hrsezpdSmgvB",
        "colab": {
          "base_uri": "https://localhost:8080/"
        },
        "outputId": "25b0f972-f54b-451b-de03-ed9bf2d6311e"
      },
      "source": [
        "# Copy table Artists to HDFS\n",
        "# Default target-dir: /user/<db_username>/\n",
        "!sqoop import --connect jdbc:mysql://localhost/testdb \\\n",
        "              --username root \\\n",
        "              -P \\\n",
        "              --table Artists \\\n",
        "              --target-dir /user/root/artists_table"
      ],
      "execution_count": null,
      "outputs": [
        {
          "output_type": "stream",
          "text": [
            "21/08/02 20:14:16 INFO sqoop.Sqoop: Running Sqoop version: 1.4.7\n",
            "Enter password: \n",
            "21/08/02 20:14:22 INFO manager.MySQLManager: Preparing to use a MySQL streaming resultset.\n",
            "21/08/02 20:14:22 INFO tool.CodeGenTool: Beginning code generation\n",
            "Loading class `com.mysql.jdbc.Driver'. This is deprecated. The new driver class is `com.mysql.cj.jdbc.Driver'. The driver is automatically registered via the SPI and manual loading of the driver class is generally unnecessary.\n",
            "21/08/02 20:14:23 INFO manager.SqlManager: Executing SQL statement: SELECT t.* FROM `Artists` AS t LIMIT 1\n",
            "21/08/02 20:14:23 INFO manager.SqlManager: Executing SQL statement: SELECT t.* FROM `Artists` AS t LIMIT 1\n",
            "21/08/02 20:14:23 INFO orm.CompilationManager: HADOOP_MAPRED_HOME is /content/hadoop\n",
            "Note: /tmp/sqoop-root/compile/649b63a7f78f50f0fa96a90fab36621f/Artists.java uses or overrides a deprecated API.\n",
            "Note: Recompile with -Xlint:deprecation for details.\n",
            "21/08/02 20:14:26 INFO orm.CompilationManager: Writing jar file: /tmp/sqoop-root/compile/649b63a7f78f50f0fa96a90fab36621f/Artists.jar\n",
            "21/08/02 20:14:26 WARN manager.MySQLManager: It looks like you are importing from mysql.\n",
            "21/08/02 20:14:26 WARN manager.MySQLManager: This transfer can be faster! Use the --direct\n",
            "21/08/02 20:14:26 WARN manager.MySQLManager: option to exercise a MySQL-specific fast path.\n",
            "21/08/02 20:14:26 INFO manager.MySQLManager: Setting zero DATETIME behavior to convertToNull (mysql)\n",
            "21/08/02 20:14:26 INFO mapreduce.ImportJobBase: Beginning import of Artists\n",
            "21/08/02 20:14:26 INFO Configuration.deprecation: mapred.jar is deprecated. Instead, use mapreduce.job.jar\n",
            "21/08/02 20:14:27 INFO Configuration.deprecation: mapred.map.tasks is deprecated. Instead, use mapreduce.job.maps\n",
            "21/08/02 20:14:27 INFO client.RMProxy: Connecting to ResourceManager at /0.0.0.0:8032\n",
            "21/08/02 20:14:32 INFO db.DBInputFormat: Using read commited transaction isolation\n",
            "21/08/02 20:14:32 INFO db.DataDrivenDBInputFormat: BoundingValsQuery: SELECT MIN(`artist_id`), MAX(`artist_id`) FROM `Artists`\n",
            "21/08/02 20:14:32 INFO db.IntegerSplitter: Split size: 0; Num splits: 4 from: 1 to: 3\n",
            "21/08/02 20:14:33 WARN hdfs.DataStreamer: Caught exception\n",
            "java.lang.InterruptedException\n",
            "\tat java.lang.Object.wait(Native Method)\n",
            "\tat java.lang.Thread.join(Thread.java:1252)\n",
            "\tat java.lang.Thread.join(Thread.java:1326)\n",
            "\tat org.apache.hadoop.hdfs.DataStreamer.closeResponder(DataStreamer.java:980)\n",
            "\tat org.apache.hadoop.hdfs.DataStreamer.endBlock(DataStreamer.java:630)\n",
            "\tat org.apache.hadoop.hdfs.DataStreamer.run(DataStreamer.java:807)\n",
            "21/08/02 20:14:33 INFO mapreduce.JobSubmitter: number of splits:3\n",
            "21/08/02 20:14:33 INFO Configuration.deprecation: yarn.resourcemanager.system-metrics-publisher.enabled is deprecated. Instead, use yarn.system-metrics-publisher.enabled\n",
            "21/08/02 20:14:33 INFO mapreduce.JobSubmitter: Submitting tokens for job: job_1627933793643_0001\n",
            "21/08/02 20:14:33 INFO conf.Configuration: resource-types.xml not found\n",
            "21/08/02 20:14:33 INFO resource.ResourceUtils: Unable to find 'resource-types.xml'.\n",
            "21/08/02 20:14:33 INFO resource.ResourceUtils: Adding resource type - name = memory-mb, units = Mi, type = COUNTABLE\n",
            "21/08/02 20:14:33 INFO resource.ResourceUtils: Adding resource type - name = vcores, units = , type = COUNTABLE\n",
            "21/08/02 20:14:34 INFO impl.YarnClientImpl: Submitted application application_1627933793643_0001\n",
            "21/08/02 20:14:34 INFO mapreduce.Job: The url to track the job: http://b3c378b8a99b:8088/proxy/application_1627933793643_0001/\n",
            "21/08/02 20:14:34 INFO mapreduce.Job: Running job: job_1627933793643_0001\n",
            "21/08/02 20:14:47 INFO mapreduce.Job: Job job_1627933793643_0001 running in uber mode : false\n",
            "21/08/02 20:14:47 INFO mapreduce.Job:  map 0% reduce 0%\n",
            "21/08/02 20:15:01 INFO mapreduce.Job:  map 33% reduce 0%\n",
            "21/08/02 20:15:03 INFO mapreduce.Job:  map 67% reduce 0%\n",
            "21/08/02 20:15:04 INFO mapreduce.Job:  map 100% reduce 0%\n",
            "21/08/02 20:15:05 INFO mapreduce.Job: Job job_1627933793643_0001 completed successfully\n",
            "21/08/02 20:15:05 INFO mapreduce.Job: Counters: 30\n",
            "\tFile System Counters\n",
            "\t\tFILE: Number of bytes read=0\n",
            "\t\tFILE: Number of bytes written=642642\n",
            "\t\tFILE: Number of read operations=0\n",
            "\t\tFILE: Number of large read operations=0\n",
            "\t\tFILE: Number of write operations=0\n",
            "\t\tHDFS: Number of bytes read=337\n",
            "\t\tHDFS: Number of bytes written=38\n",
            "\t\tHDFS: Number of read operations=12\n",
            "\t\tHDFS: Number of large read operations=0\n",
            "\t\tHDFS: Number of write operations=6\n",
            "\tJob Counters \n",
            "\t\tLaunched map tasks=3\n",
            "\t\tOther local map tasks=3\n",
            "\t\tTotal time spent by all maps in occupied slots (ms)=36159\n",
            "\t\tTotal time spent by all reduces in occupied slots (ms)=0\n",
            "\t\tTotal time spent by all map tasks (ms)=36159\n",
            "\t\tTotal vcore-milliseconds taken by all map tasks=36159\n",
            "\t\tTotal megabyte-milliseconds taken by all map tasks=37026816\n",
            "\tMap-Reduce Framework\n",
            "\t\tMap input records=3\n",
            "\t\tMap output records=3\n",
            "\t\tInput split bytes=337\n",
            "\t\tSpilled Records=0\n",
            "\t\tFailed Shuffles=0\n",
            "\t\tMerged Map outputs=0\n",
            "\t\tGC time elapsed (ms)=878\n",
            "\t\tCPU time spent (ms)=6720\n",
            "\t\tPhysical memory (bytes) snapshot=656601088\n",
            "\t\tVirtual memory (bytes) snapshot=5463097344\n",
            "\t\tTotal committed heap usage (bytes)=448266240\n",
            "\tFile Input Format Counters \n",
            "\t\tBytes Read=0\n",
            "\tFile Output Format Counters \n",
            "\t\tBytes Written=38\n",
            "21/08/02 20:15:05 INFO mapreduce.ImportJobBase: Transferred 38 bytes in 37.8087 seconds (1.0051 bytes/sec)\n",
            "21/08/02 20:15:05 INFO mapreduce.ImportJobBase: Retrieved 3 records.\n"
          ],
          "name": "stdout"
        }
      ]
    },
    {
      "cell_type": "code",
      "metadata": {
        "id": "1-K_1tDFo-0k",
        "colab": {
          "base_uri": "https://localhost:8080/"
        },
        "outputId": "c67cd0b2-0a55-4b3b-d209-756d1586dd7e"
      },
      "source": [
        "!hdfs dfs -ls /user/root/artists_table"
      ],
      "execution_count": null,
      "outputs": [
        {
          "output_type": "stream",
          "text": [
            "Found 4 items\n",
            "-rw-r--r--   1 root supergroup          0 2021-08-02 20:15 /user/root/artists_table/_SUCCESS\n",
            "-rw-r--r--   1 root supergroup          9 2021-08-02 20:14 /user/root/artists_table/part-m-00000\n",
            "-rw-r--r--   1 root supergroup         11 2021-08-02 20:15 /user/root/artists_table/part-m-00001\n",
            "-rw-r--r--   1 root supergroup         18 2021-08-02 20:15 /user/root/artists_table/part-m-00002\n"
          ],
          "name": "stdout"
        }
      ]
    },
    {
      "cell_type": "code",
      "metadata": {
        "id": "20tXTVNqq5nh",
        "colab": {
          "base_uri": "https://localhost:8080/"
        },
        "outputId": "408b717e-0f15-44bb-bab3-84083a13bf1c"
      },
      "source": [
        "!hdfs dfs -cat /user/root/artists_table/part-m-00001"
      ],
      "execution_count": null,
      "outputs": [
        {
          "output_type": "stream",
          "text": [
            "2,Los Tres\n"
          ],
          "name": "stdout"
        }
      ]
    },
    {
      "cell_type": "code",
      "metadata": {
        "id": "AdfH-JxL4KQm",
        "colab": {
          "base_uri": "https://localhost:8080/"
        },
        "outputId": "c414bf77-eb3b-49bd-9e68-8fbfdc62405e"
      },
      "source": [
        "# Copy table Albums to HDFS filtering by releasedate\n",
        "!sqoop import --connect jdbc:mysql://localhost/testdb \\\n",
        "              --username root \\\n",
        "              -P \\\n",
        "              --table Albums \\\n",
        "              --target-dir /user/root/albums_table \\\n",
        "              --where \"year < 1995\""
      ],
      "execution_count": null,
      "outputs": [
        {
          "output_type": "stream",
          "text": [
            "21/08/02 20:18:12 INFO sqoop.Sqoop: Running Sqoop version: 1.4.7\n",
            "Enter password: \n",
            "21/08/02 20:18:19 INFO manager.MySQLManager: Preparing to use a MySQL streaming resultset.\n",
            "21/08/02 20:18:19 INFO tool.CodeGenTool: Beginning code generation\n",
            "Loading class `com.mysql.jdbc.Driver'. This is deprecated. The new driver class is `com.mysql.cj.jdbc.Driver'. The driver is automatically registered via the SPI and manual loading of the driver class is generally unnecessary.\n",
            "21/08/02 20:18:20 INFO manager.SqlManager: Executing SQL statement: SELECT t.* FROM `Albums` AS t LIMIT 1\n",
            "21/08/02 20:18:20 INFO manager.SqlManager: Executing SQL statement: SELECT t.* FROM `Albums` AS t LIMIT 1\n",
            "21/08/02 20:18:20 INFO orm.CompilationManager: HADOOP_MAPRED_HOME is /content/hadoop\n",
            "Note: /tmp/sqoop-root/compile/4aa0d2f33b702de92234b5559f08d40e/Albums.java uses or overrides a deprecated API.\n",
            "Note: Recompile with -Xlint:deprecation for details.\n",
            "21/08/02 20:18:22 INFO orm.CompilationManager: Writing jar file: /tmp/sqoop-root/compile/4aa0d2f33b702de92234b5559f08d40e/Albums.jar\n",
            "21/08/02 20:18:22 WARN manager.MySQLManager: It looks like you are importing from mysql.\n",
            "21/08/02 20:18:22 WARN manager.MySQLManager: This transfer can be faster! Use the --direct\n",
            "21/08/02 20:18:22 WARN manager.MySQLManager: option to exercise a MySQL-specific fast path.\n",
            "21/08/02 20:18:22 INFO manager.MySQLManager: Setting zero DATETIME behavior to convertToNull (mysql)\n",
            "21/08/02 20:18:22 INFO mapreduce.ImportJobBase: Beginning import of Albums\n",
            "21/08/02 20:18:22 INFO Configuration.deprecation: mapred.jar is deprecated. Instead, use mapreduce.job.jar\n",
            "21/08/02 20:18:23 INFO Configuration.deprecation: mapred.map.tasks is deprecated. Instead, use mapreduce.job.maps\n",
            "21/08/02 20:18:23 INFO client.RMProxy: Connecting to ResourceManager at /0.0.0.0:8032\n",
            "21/08/02 20:18:26 INFO db.DBInputFormat: Using read commited transaction isolation\n",
            "21/08/02 20:18:26 INFO db.DataDrivenDBInputFormat: BoundingValsQuery: SELECT MIN(`album_id`), MAX(`album_id`) FROM `Albums` WHERE ( year < 1995 )\n",
            "21/08/02 20:18:26 INFO db.IntegerSplitter: Split size: 4; Num splits: 4 from: 1 to: 19\n",
            "21/08/02 20:18:26 INFO mapreduce.JobSubmitter: number of splits:4\n",
            "21/08/02 20:18:27 INFO Configuration.deprecation: yarn.resourcemanager.system-metrics-publisher.enabled is deprecated. Instead, use yarn.system-metrics-publisher.enabled\n",
            "21/08/02 20:18:27 INFO mapreduce.JobSubmitter: Submitting tokens for job: job_1627933793643_0002\n",
            "21/08/02 20:18:27 INFO conf.Configuration: resource-types.xml not found\n",
            "21/08/02 20:18:27 INFO resource.ResourceUtils: Unable to find 'resource-types.xml'.\n",
            "21/08/02 20:18:27 INFO resource.ResourceUtils: Adding resource type - name = memory-mb, units = Mi, type = COUNTABLE\n",
            "21/08/02 20:18:27 INFO resource.ResourceUtils: Adding resource type - name = vcores, units = , type = COUNTABLE\n",
            "21/08/02 20:18:27 INFO impl.YarnClientImpl: Submitted application application_1627933793643_0002\n",
            "21/08/02 20:18:27 INFO mapreduce.Job: The url to track the job: http://b3c378b8a99b:8088/proxy/application_1627933793643_0002/\n",
            "21/08/02 20:18:27 INFO mapreduce.Job: Running job: job_1627933793643_0002\n",
            "21/08/02 20:18:37 INFO mapreduce.Job: Job job_1627933793643_0002 running in uber mode : false\n",
            "21/08/02 20:18:37 INFO mapreduce.Job:  map 0% reduce 0%\n",
            "21/08/02 20:18:54 INFO mapreduce.Job:  map 25% reduce 0%\n",
            "21/08/02 20:18:56 INFO mapreduce.Job:  map 50% reduce 0%\n",
            "21/08/02 20:18:57 INFO mapreduce.Job:  map 75% reduce 0%\n",
            "21/08/02 20:18:58 INFO mapreduce.Job:  map 100% reduce 0%\n",
            "21/08/02 20:18:58 INFO mapreduce.Job: Job job_1627933793643_0002 completed successfully\n",
            "21/08/02 20:18:58 INFO mapreduce.Job: Counters: 31\n",
            "\tFile System Counters\n",
            "\t\tFILE: Number of bytes read=0\n",
            "\t\tFILE: Number of bytes written=857592\n",
            "\t\tFILE: Number of read operations=0\n",
            "\t\tFILE: Number of large read operations=0\n",
            "\t\tFILE: Number of write operations=0\n",
            "\t\tHDFS: Number of bytes read=446\n",
            "\t\tHDFS: Number of bytes written=213\n",
            "\t\tHDFS: Number of read operations=16\n",
            "\t\tHDFS: Number of large read operations=0\n",
            "\t\tHDFS: Number of write operations=8\n",
            "\tJob Counters \n",
            "\t\tKilled map tasks=1\n",
            "\t\tLaunched map tasks=4\n",
            "\t\tOther local map tasks=4\n",
            "\t\tTotal time spent by all maps in occupied slots (ms)=62733\n",
            "\t\tTotal time spent by all reduces in occupied slots (ms)=0\n",
            "\t\tTotal time spent by all map tasks (ms)=62733\n",
            "\t\tTotal vcore-milliseconds taken by all map tasks=62733\n",
            "\t\tTotal megabyte-milliseconds taken by all map tasks=64238592\n",
            "\tMap-Reduce Framework\n",
            "\t\tMap input records=9\n",
            "\t\tMap output records=9\n",
            "\t\tInput split bytes=446\n",
            "\t\tSpilled Records=0\n",
            "\t\tFailed Shuffles=0\n",
            "\t\tMerged Map outputs=0\n",
            "\t\tGC time elapsed (ms)=1383\n",
            "\t\tCPU time spent (ms)=8610\n",
            "\t\tPhysical memory (bytes) snapshot=842354688\n",
            "\t\tVirtual memory (bytes) snapshot=7256190976\n",
            "\t\tTotal committed heap usage (bytes)=590348288\n",
            "\tFile Input Format Counters \n",
            "\t\tBytes Read=0\n",
            "\tFile Output Format Counters \n",
            "\t\tBytes Written=213\n",
            "21/08/02 20:18:58 INFO mapreduce.ImportJobBase: Transferred 213 bytes in 34.8687 seconds (6.1086 bytes/sec)\n",
            "21/08/02 20:18:58 INFO mapreduce.ImportJobBase: Retrieved 9 records.\n"
          ],
          "name": "stdout"
        }
      ]
    },
    {
      "cell_type": "code",
      "metadata": {
        "id": "OImGajTP4nkG",
        "colab": {
          "base_uri": "https://localhost:8080/"
        },
        "outputId": "a1551aa9-6422-4e6a-8333-0ecf7065c41c"
      },
      "source": [
        "!hdfs dfs -ls /user/root/albums_table"
      ],
      "execution_count": null,
      "outputs": [
        {
          "output_type": "stream",
          "text": [
            "Found 5 items\n",
            "-rw-r--r--   1 root supergroup          0 2021-08-02 20:18 /user/root/albums_table/_SUCCESS\n",
            "-rw-r--r--   1 root supergroup         58 2021-08-02 20:18 /user/root/albums_table/part-m-00000\n",
            "-rw-r--r--   1 root supergroup         47 2021-08-02 20:18 /user/root/albums_table/part-m-00001\n",
            "-rw-r--r--   1 root supergroup          0 2021-08-02 20:18 /user/root/albums_table/part-m-00002\n",
            "-rw-r--r--   1 root supergroup        108 2021-08-02 20:18 /user/root/albums_table/part-m-00003\n"
          ],
          "name": "stdout"
        }
      ]
    },
    {
      "cell_type": "code",
      "metadata": {
        "id": "JCLWC_ZD42cr",
        "colab": {
          "base_uri": "https://localhost:8080/"
        },
        "outputId": "5d3bc8b2-b3f5-4872-ba5e-ce6822b7afbe"
      },
      "source": [
        "!hdfs dfs -cat /user/root/albums_table/*"
      ],
      "execution_count": null,
      "outputs": [
        {
          "output_type": "stream",
          "text": [
            "1,Desiertos,1990,1\n",
            "2,Doble opuesto,1991,1\n",
            "3,La Ley,1993,1\n",
            "9,Los Tres,1991,2\n",
            "10,Se remata el siglo,1993,2\n",
            "16,La voz de los 80,1984,3\n",
            "17,Pateando piedras,1986,3\n",
            "18,La cultura de la basura,1987,3\n",
            "19,Corazones,1990,3\n"
          ],
          "name": "stdout"
        }
      ]
    },
    {
      "cell_type": "code",
      "metadata": {
        "id": "RmMveJLHuT1x",
        "colab": {
          "base_uri": "https://localhost:8080/"
        },
        "outputId": "f4544265-12b9-433c-eb43-a87b868717df"
      },
      "source": [
        "# Import table Albums into Hive data warehouse: data in HDFS and schema in metastore\n",
        "!sqoop import --connect jdbc:mysql://localhost/testdb \\\n",
        "              --username root \\\n",
        "              -P \\\n",
        "              --table Albums \\\n",
        "              --hive-import \\\n",
        "              --hive-table hivealbums"
      ],
      "execution_count": null,
      "outputs": [
        {
          "output_type": "stream",
          "text": [
            "21/08/02 20:23:04 INFO sqoop.Sqoop: Running Sqoop version: 1.4.7\n",
            "Enter password: \n",
            "21/08/02 20:23:10 INFO tool.BaseSqoopTool: Using Hive-specific delimiters for output. You can override\n",
            "21/08/02 20:23:10 INFO tool.BaseSqoopTool: delimiters with --fields-terminated-by, etc.\n",
            "21/08/02 20:23:10 INFO manager.MySQLManager: Preparing to use a MySQL streaming resultset.\n",
            "21/08/02 20:23:10 INFO tool.CodeGenTool: Beginning code generation\n",
            "Loading class `com.mysql.jdbc.Driver'. This is deprecated. The new driver class is `com.mysql.cj.jdbc.Driver'. The driver is automatically registered via the SPI and manual loading of the driver class is generally unnecessary.\n",
            "21/08/02 20:23:11 INFO manager.SqlManager: Executing SQL statement: SELECT t.* FROM `Albums` AS t LIMIT 1\n",
            "21/08/02 20:23:11 INFO manager.SqlManager: Executing SQL statement: SELECT t.* FROM `Albums` AS t LIMIT 1\n",
            "21/08/02 20:23:11 INFO orm.CompilationManager: HADOOP_MAPRED_HOME is /content/hadoop\n",
            "Note: /tmp/sqoop-root/compile/cea230dcd99b91cf840decd25178e7ca/Albums.java uses or overrides a deprecated API.\n",
            "Note: Recompile with -Xlint:deprecation for details.\n",
            "21/08/02 20:23:13 INFO orm.CompilationManager: Writing jar file: /tmp/sqoop-root/compile/cea230dcd99b91cf840decd25178e7ca/Albums.jar\n",
            "21/08/02 20:23:13 WARN manager.MySQLManager: It looks like you are importing from mysql.\n",
            "21/08/02 20:23:13 WARN manager.MySQLManager: This transfer can be faster! Use the --direct\n",
            "21/08/02 20:23:13 WARN manager.MySQLManager: option to exercise a MySQL-specific fast path.\n",
            "21/08/02 20:23:13 INFO manager.MySQLManager: Setting zero DATETIME behavior to convertToNull (mysql)\n",
            "21/08/02 20:23:13 INFO mapreduce.ImportJobBase: Beginning import of Albums\n",
            "21/08/02 20:23:13 INFO Configuration.deprecation: mapred.jar is deprecated. Instead, use mapreduce.job.jar\n",
            "21/08/02 20:23:14 INFO Configuration.deprecation: mapred.map.tasks is deprecated. Instead, use mapreduce.job.maps\n",
            "21/08/02 20:23:14 INFO client.RMProxy: Connecting to ResourceManager at /0.0.0.0:8032\n",
            "21/08/02 20:23:17 INFO db.DBInputFormat: Using read commited transaction isolation\n",
            "21/08/02 20:23:17 INFO db.DataDrivenDBInputFormat: BoundingValsQuery: SELECT MIN(`album_id`), MAX(`album_id`) FROM `Albums`\n",
            "21/08/02 20:23:17 INFO db.IntegerSplitter: Split size: 5; Num splits: 4 from: 1 to: 21\n",
            "21/08/02 20:23:18 INFO mapreduce.JobSubmitter: number of splits:4\n",
            "21/08/02 20:23:18 INFO Configuration.deprecation: yarn.resourcemanager.system-metrics-publisher.enabled is deprecated. Instead, use yarn.system-metrics-publisher.enabled\n",
            "21/08/02 20:23:18 INFO mapreduce.JobSubmitter: Submitting tokens for job: job_1627933793643_0003\n",
            "21/08/02 20:23:18 INFO conf.Configuration: resource-types.xml not found\n",
            "21/08/02 20:23:18 INFO resource.ResourceUtils: Unable to find 'resource-types.xml'.\n",
            "21/08/02 20:23:18 INFO resource.ResourceUtils: Adding resource type - name = memory-mb, units = Mi, type = COUNTABLE\n",
            "21/08/02 20:23:18 INFO resource.ResourceUtils: Adding resource type - name = vcores, units = , type = COUNTABLE\n",
            "21/08/02 20:23:18 INFO impl.YarnClientImpl: Submitted application application_1627933793643_0003\n",
            "21/08/02 20:23:18 INFO mapreduce.Job: The url to track the job: http://b3c378b8a99b:8088/proxy/application_1627933793643_0003/\n",
            "21/08/02 20:23:18 INFO mapreduce.Job: Running job: job_1627933793643_0003\n",
            "21/08/02 20:23:27 INFO mapreduce.Job: Job job_1627933793643_0003 running in uber mode : false\n",
            "21/08/02 20:23:27 INFO mapreduce.Job:  map 0% reduce 0%\n",
            "21/08/02 20:23:43 INFO mapreduce.Job:  map 25% reduce 0%\n",
            "21/08/02 20:23:45 INFO mapreduce.Job:  map 50% reduce 0%\n",
            "21/08/02 20:23:47 INFO mapreduce.Job:  map 75% reduce 0%\n",
            "21/08/02 20:23:48 INFO mapreduce.Job:  map 100% reduce 0%\n",
            "21/08/02 20:23:48 INFO mapreduce.Job: Job job_1627933793643_0003 completed successfully\n",
            "21/08/02 20:23:48 INFO mapreduce.Job: Counters: 30\n",
            "\tFile System Counters\n",
            "\t\tFILE: Number of bytes read=0\n",
            "\t\tFILE: Number of bytes written=856884\n",
            "\t\tFILE: Number of read operations=0\n",
            "\t\tFILE: Number of large read operations=0\n",
            "\t\tFILE: Number of write operations=0\n",
            "\t\tHDFS: Number of bytes read=446\n",
            "\t\tHDFS: Number of bytes written=471\n",
            "\t\tHDFS: Number of read operations=16\n",
            "\t\tHDFS: Number of large read operations=0\n",
            "\t\tHDFS: Number of write operations=8\n",
            "\tJob Counters \n",
            "\t\tLaunched map tasks=4\n",
            "\t\tOther local map tasks=4\n",
            "\t\tTotal time spent by all maps in occupied slots (ms)=60717\n",
            "\t\tTotal time spent by all reduces in occupied slots (ms)=0\n",
            "\t\tTotal time spent by all map tasks (ms)=60717\n",
            "\t\tTotal vcore-milliseconds taken by all map tasks=60717\n",
            "\t\tTotal megabyte-milliseconds taken by all map tasks=62174208\n",
            "\tMap-Reduce Framework\n",
            "\t\tMap input records=21\n",
            "\t\tMap output records=21\n",
            "\t\tInput split bytes=446\n",
            "\t\tSpilled Records=0\n",
            "\t\tFailed Shuffles=0\n",
            "\t\tMerged Map outputs=0\n",
            "\t\tGC time elapsed (ms)=1193\n",
            "\t\tCPU time spent (ms)=9230\n",
            "\t\tPhysical memory (bytes) snapshot=852230144\n",
            "\t\tVirtual memory (bytes) snapshot=7264706560\n",
            "\t\tTotal committed heap usage (bytes)=605028352\n",
            "\tFile Input Format Counters \n",
            "\t\tBytes Read=0\n",
            "\tFile Output Format Counters \n",
            "\t\tBytes Written=471\n",
            "21/08/02 20:23:48 INFO mapreduce.ImportJobBase: Transferred 471 bytes in 34.0573 seconds (13.8297 bytes/sec)\n",
            "21/08/02 20:23:48 INFO mapreduce.ImportJobBase: Retrieved 21 records.\n",
            "21/08/02 20:23:48 INFO mapreduce.ImportJobBase: Publishing Hive/Hcat import job data to Listeners for table Albums\n",
            "21/08/02 20:23:48 INFO manager.SqlManager: Executing SQL statement: SELECT t.* FROM `Albums` AS t LIMIT 1\n",
            "21/08/02 20:23:48 INFO hive.HiveImport: Loading uploaded data into Hive\n",
            "21/08/02 20:23:48 INFO conf.HiveConf: Found configuration file file:/content/apache-hive-bin/conf/hive-site.xml\n",
            "21/08/02 20:23:48 WARN conf.HiveConf: HiveConf of name hive.enforce.bucketing does not exist\n",
            "21/08/02 20:23:51 INFO hive.HiveImport: SLF4J: Class path contains multiple SLF4J bindings.\n",
            "21/08/02 20:23:51 INFO hive.HiveImport: SLF4J: Found binding in [jar:file:/content/apache-hive-2.3.7-bin/lib/log4j-slf4j-impl-2.6.2.jar!/org/slf4j/impl/StaticLoggerBinder.class]\n",
            "21/08/02 20:23:51 INFO hive.HiveImport: SLF4J: Found binding in [jar:file:/content/hadoop-2.10.0/share/hadoop/common/lib/slf4j-log4j12-1.7.25.jar!/org/slf4j/impl/StaticLoggerBinder.class]\n",
            "21/08/02 20:23:51 INFO hive.HiveImport: SLF4J: See http://www.slf4j.org/codes.html#multiple_bindings for an explanation.\n",
            "21/08/02 20:23:51 INFO hive.HiveImport: SLF4J: Actual binding is of type [org.apache.logging.slf4j.Log4jLoggerFactory]\n",
            "21/08/02 20:23:54 INFO hive.HiveImport: \n",
            "21/08/02 20:23:54 INFO hive.HiveImport: Logging initialized using configuration in jar:file:/content/apache-hive-2.3.7-bin/lib/hive-common-2.3.7.jar!/hive-log4j2.properties Async: true\n",
            "21/08/02 20:24:07 INFO hive.HiveImport: OK\n",
            "21/08/02 20:24:07 INFO hive.HiveImport: Time taken: 10.299 seconds\n",
            "21/08/02 20:24:07 INFO hive.HiveImport: Loading data to table default.hivealbums\n",
            "21/08/02 20:24:08 INFO hive.HiveImport: OK\n",
            "21/08/02 20:24:08 INFO hive.HiveImport: Time taken: 1.177 seconds\n",
            "21/08/02 20:24:08 INFO hive.HiveImport: Hive import complete.\n",
            "21/08/02 20:24:08 INFO hive.HiveImport: Export directory is contains the _SUCCESS file only, removing the directory.\n"
          ],
          "name": "stdout"
        }
      ]
    },
    {
      "cell_type": "code",
      "metadata": {
        "id": "FGPdIy1Mus3I",
        "colab": {
          "base_uri": "https://localhost:8080/"
        },
        "outputId": "5fb6fc4f-28c8-447f-a14a-4f88cf4d03b1"
      },
      "source": [
        "!hdfs dfs -ls /user/hive/warehouse"
      ],
      "execution_count": null,
      "outputs": [
        {
          "output_type": "stream",
          "text": [
            "Found 1 items\n",
            "drwxrwxr-x   - root supergroup          0 2021-08-02 20:24 /user/hive/warehouse/hivealbums\n"
          ],
          "name": "stdout"
        }
      ]
    },
    {
      "cell_type": "code",
      "metadata": {
        "id": "n-PU-Xqst6ec",
        "colab": {
          "base_uri": "https://localhost:8080/"
        },
        "outputId": "5ab722c8-0585-4dc2-80cf-218ebe75a404"
      },
      "source": [
        "!hdfs dfs -ls /user/hive/warehouse/hivealbums"
      ],
      "execution_count": null,
      "outputs": [
        {
          "output_type": "stream",
          "text": [
            "Found 4 items\n",
            "-rwxrwxr-x   1 root supergroup         94 2021-08-02 20:23 /user/hive/warehouse/hivealbums/part-m-00000\n",
            "-rwxrwxr-x   1 root supergroup         98 2021-08-02 20:23 /user/hive/warehouse/hivealbums/part-m-00001\n",
            "-rwxrwxr-x   1 root supergroup        127 2021-08-02 20:23 /user/hive/warehouse/hivealbums/part-m-00002\n",
            "-rwxrwxr-x   1 root supergroup        152 2021-08-02 20:23 /user/hive/warehouse/hivealbums/part-m-00003\n"
          ],
          "name": "stdout"
        }
      ]
    },
    {
      "cell_type": "code",
      "metadata": {
        "id": "c028FFqialVX",
        "colab": {
          "base_uri": "https://localhost:8080/"
        },
        "outputId": "a04b1a49-a5ea-4ba3-bab3-37c627d3ed09"
      },
      "source": [
        "!sqoop import-all-tables --connect jdbc:mysql://localhost/testdb \\\n",
        "                         --username root \\\n",
        "                         -P \\\n",
        "                         --hive-import"
      ],
      "execution_count": null,
      "outputs": [
        {
          "output_type": "stream",
          "text": [
            "21/08/02 20:26:45 INFO sqoop.Sqoop: Running Sqoop version: 1.4.7\n",
            "Enter password: \n",
            "21/08/02 20:27:08 INFO tool.BaseSqoopTool: Using Hive-specific delimiters for output. You can override\n",
            "21/08/02 20:27:08 INFO tool.BaseSqoopTool: delimiters with --fields-terminated-by, etc.\n",
            "21/08/02 20:27:08 INFO manager.MySQLManager: Preparing to use a MySQL streaming resultset.\n",
            "Loading class `com.mysql.jdbc.Driver'. This is deprecated. The new driver class is `com.mysql.cj.jdbc.Driver'. The driver is automatically registered via the SPI and manual loading of the driver class is generally unnecessary.\n",
            "21/08/02 20:27:09 INFO tool.CodeGenTool: Beginning code generation\n",
            "21/08/02 20:27:09 INFO manager.SqlManager: Executing SQL statement: SELECT t.* FROM `Albums` AS t LIMIT 1\n",
            "21/08/02 20:27:09 INFO manager.SqlManager: Executing SQL statement: SELECT t.* FROM `Albums` AS t LIMIT 1\n",
            "21/08/02 20:27:09 INFO orm.CompilationManager: HADOOP_MAPRED_HOME is /content/hadoop\n",
            "Note: /tmp/sqoop-root/compile/4a28f3557d216518cd26b68a47ceaf97/Albums.java uses or overrides a deprecated API.\n",
            "Note: Recompile with -Xlint:deprecation for details.\n",
            "21/08/02 20:27:12 INFO orm.CompilationManager: Writing jar file: /tmp/sqoop-root/compile/4a28f3557d216518cd26b68a47ceaf97/Albums.jar\n",
            "21/08/02 20:27:12 WARN manager.MySQLManager: It looks like you are importing from mysql.\n",
            "21/08/02 20:27:12 WARN manager.MySQLManager: This transfer can be faster! Use the --direct\n",
            "21/08/02 20:27:12 WARN manager.MySQLManager: option to exercise a MySQL-specific fast path.\n",
            "21/08/02 20:27:12 INFO manager.MySQLManager: Setting zero DATETIME behavior to convertToNull (mysql)\n",
            "21/08/02 20:27:12 INFO mapreduce.ImportJobBase: Beginning import of Albums\n",
            "21/08/02 20:27:12 INFO Configuration.deprecation: mapred.jar is deprecated. Instead, use mapreduce.job.jar\n",
            "21/08/02 20:27:13 INFO Configuration.deprecation: mapred.map.tasks is deprecated. Instead, use mapreduce.job.maps\n",
            "21/08/02 20:27:13 INFO client.RMProxy: Connecting to ResourceManager at /0.0.0.0:8032\n",
            "21/08/02 20:27:17 INFO db.DBInputFormat: Using read commited transaction isolation\n",
            "21/08/02 20:27:17 INFO db.DataDrivenDBInputFormat: BoundingValsQuery: SELECT MIN(`album_id`), MAX(`album_id`) FROM `Albums`\n",
            "21/08/02 20:27:17 INFO db.IntegerSplitter: Split size: 5; Num splits: 4 from: 1 to: 21\n",
            "21/08/02 20:27:17 INFO mapreduce.JobSubmitter: number of splits:4\n",
            "21/08/02 20:27:18 INFO Configuration.deprecation: yarn.resourcemanager.system-metrics-publisher.enabled is deprecated. Instead, use yarn.system-metrics-publisher.enabled\n",
            "21/08/02 20:27:18 INFO mapreduce.JobSubmitter: Submitting tokens for job: job_1627933793643_0004\n",
            "21/08/02 20:27:18 INFO conf.Configuration: resource-types.xml not found\n",
            "21/08/02 20:27:18 INFO resource.ResourceUtils: Unable to find 'resource-types.xml'.\n",
            "21/08/02 20:27:18 INFO resource.ResourceUtils: Adding resource type - name = memory-mb, units = Mi, type = COUNTABLE\n",
            "21/08/02 20:27:18 INFO resource.ResourceUtils: Adding resource type - name = vcores, units = , type = COUNTABLE\n",
            "21/08/02 20:27:18 INFO impl.YarnClientImpl: Submitted application application_1627933793643_0004\n",
            "21/08/02 20:27:18 INFO mapreduce.Job: The url to track the job: http://b3c378b8a99b:8088/proxy/application_1627933793643_0004/\n",
            "21/08/02 20:27:18 INFO mapreduce.Job: Running job: job_1627933793643_0004\n",
            "21/08/02 20:27:28 INFO mapreduce.Job: Job job_1627933793643_0004 running in uber mode : false\n",
            "21/08/02 20:27:28 INFO mapreduce.Job:  map 0% reduce 0%\n",
            "21/08/02 20:27:44 INFO mapreduce.Job:  map 25% reduce 0%\n",
            "21/08/02 20:27:47 INFO mapreduce.Job:  map 50% reduce 0%\n",
            "21/08/02 20:27:49 INFO mapreduce.Job:  map 100% reduce 0%\n",
            "21/08/02 20:27:50 INFO mapreduce.Job: Job job_1627933793643_0004 completed successfully\n",
            "21/08/02 20:27:50 INFO mapreduce.Job: Counters: 30\n",
            "\tFile System Counters\n",
            "\t\tFILE: Number of bytes read=0\n",
            "\t\tFILE: Number of bytes written=856884\n",
            "\t\tFILE: Number of read operations=0\n",
            "\t\tFILE: Number of large read operations=0\n",
            "\t\tFILE: Number of write operations=0\n",
            "\t\tHDFS: Number of bytes read=446\n",
            "\t\tHDFS: Number of bytes written=471\n",
            "\t\tHDFS: Number of read operations=16\n",
            "\t\tHDFS: Number of large read operations=0\n",
            "\t\tHDFS: Number of write operations=8\n",
            "\tJob Counters \n",
            "\t\tLaunched map tasks=4\n",
            "\t\tOther local map tasks=4\n",
            "\t\tTotal time spent by all maps in occupied slots (ms)=62517\n",
            "\t\tTotal time spent by all reduces in occupied slots (ms)=0\n",
            "\t\tTotal time spent by all map tasks (ms)=62517\n",
            "\t\tTotal vcore-milliseconds taken by all map tasks=62517\n",
            "\t\tTotal megabyte-milliseconds taken by all map tasks=64017408\n",
            "\tMap-Reduce Framework\n",
            "\t\tMap input records=21\n",
            "\t\tMap output records=21\n",
            "\t\tInput split bytes=446\n",
            "\t\tSpilled Records=0\n",
            "\t\tFailed Shuffles=0\n",
            "\t\tMerged Map outputs=0\n",
            "\t\tGC time elapsed (ms)=1387\n",
            "\t\tCPU time spent (ms)=9410\n",
            "\t\tPhysical memory (bytes) snapshot=857047040\n",
            "\t\tVirtual memory (bytes) snapshot=7269265408\n",
            "\t\tTotal committed heap usage (bytes)=595066880\n",
            "\tFile Input Format Counters \n",
            "\t\tBytes Read=0\n",
            "\tFile Output Format Counters \n",
            "\t\tBytes Written=471\n",
            "21/08/02 20:27:50 INFO mapreduce.ImportJobBase: Transferred 471 bytes in 37.1896 seconds (12.6648 bytes/sec)\n",
            "21/08/02 20:27:50 INFO mapreduce.ImportJobBase: Retrieved 21 records.\n",
            "21/08/02 20:27:50 INFO mapreduce.ImportJobBase: Publishing Hive/Hcat import job data to Listeners for table Albums\n",
            "21/08/02 20:27:50 INFO manager.SqlManager: Executing SQL statement: SELECT t.* FROM `Albums` AS t LIMIT 1\n",
            "21/08/02 20:27:50 INFO hive.HiveImport: Loading uploaded data into Hive\n",
            "21/08/02 20:27:50 INFO conf.HiveConf: Found configuration file file:/content/apache-hive-bin/conf/hive-site.xml\n",
            "21/08/02 20:27:50 WARN conf.HiveConf: HiveConf of name hive.enforce.bucketing does not exist\n",
            "21/08/02 20:27:52 INFO hive.HiveImport: SLF4J: Class path contains multiple SLF4J bindings.\n",
            "21/08/02 20:27:52 INFO hive.HiveImport: SLF4J: Found binding in [jar:file:/content/apache-hive-2.3.7-bin/lib/log4j-slf4j-impl-2.6.2.jar!/org/slf4j/impl/StaticLoggerBinder.class]\n",
            "21/08/02 20:27:52 INFO hive.HiveImport: SLF4J: Found binding in [jar:file:/content/hadoop-2.10.0/share/hadoop/common/lib/slf4j-log4j12-1.7.25.jar!/org/slf4j/impl/StaticLoggerBinder.class]\n",
            "21/08/02 20:27:52 INFO hive.HiveImport: SLF4J: See http://www.slf4j.org/codes.html#multiple_bindings for an explanation.\n",
            "21/08/02 20:27:52 INFO hive.HiveImport: SLF4J: Actual binding is of type [org.apache.logging.slf4j.Log4jLoggerFactory]\n",
            "21/08/02 20:27:56 INFO hive.HiveImport: \n",
            "21/08/02 20:27:56 INFO hive.HiveImport: Logging initialized using configuration in jar:file:/content/apache-hive-2.3.7-bin/lib/hive-common-2.3.7.jar!/hive-log4j2.properties Async: true\n",
            "21/08/02 20:28:07 INFO hive.HiveImport: OK\n",
            "21/08/02 20:28:07 INFO hive.HiveImport: Time taken: 9.162 seconds\n",
            "21/08/02 20:28:07 INFO hive.HiveImport: Loading data to table default.albums\n",
            "21/08/02 20:28:08 INFO hive.HiveImport: OK\n",
            "21/08/02 20:28:08 INFO hive.HiveImport: Time taken: 1.353 seconds\n",
            "21/08/02 20:28:08 INFO hive.HiveImport: Hive import complete.\n",
            "21/08/02 20:28:08 INFO hive.HiveImport: Export directory is contains the _SUCCESS file only, removing the directory.\n",
            "21/08/02 20:28:08 INFO tool.CodeGenTool: Beginning code generation\n",
            "21/08/02 20:28:08 INFO manager.SqlManager: Executing SQL statement: SELECT t.* FROM `Artists` AS t LIMIT 1\n",
            "21/08/02 20:28:08 INFO orm.CompilationManager: HADOOP_MAPRED_HOME is /content/hadoop\n",
            "Note: /tmp/sqoop-root/compile/4a28f3557d216518cd26b68a47ceaf97/Artists.java uses or overrides a deprecated API.\n",
            "Note: Recompile with -Xlint:deprecation for details.\n",
            "21/08/02 20:28:09 INFO orm.CompilationManager: Writing jar file: /tmp/sqoop-root/compile/4a28f3557d216518cd26b68a47ceaf97/Artists.jar\n",
            "21/08/02 20:28:09 INFO mapreduce.ImportJobBase: Beginning import of Artists\n",
            "21/08/02 20:28:09 INFO client.RMProxy: Connecting to ResourceManager at /0.0.0.0:8032\n",
            "21/08/02 20:28:11 INFO db.DBInputFormat: Using read commited transaction isolation\n",
            "21/08/02 20:28:11 INFO db.DataDrivenDBInputFormat: BoundingValsQuery: SELECT MIN(`artist_id`), MAX(`artist_id`) FROM `Artists`\n",
            "21/08/02 20:28:11 INFO db.IntegerSplitter: Split size: 0; Num splits: 4 from: 1 to: 3\n",
            "21/08/02 20:28:11 INFO mapreduce.JobSubmitter: number of splits:3\n",
            "21/08/02 20:28:11 INFO mapreduce.JobSubmitter: Submitting tokens for job: job_1627933793643_0005\n",
            "21/08/02 20:28:12 INFO impl.YarnClientImpl: Submitted application application_1627933793643_0005\n",
            "21/08/02 20:28:12 INFO mapreduce.Job: The url to track the job: http://b3c378b8a99b:8088/proxy/application_1627933793643_0005/\n",
            "21/08/02 20:28:12 INFO mapreduce.Job: Running job: job_1627933793643_0005\n",
            "21/08/02 20:28:20 INFO mapreduce.Job: Job job_1627933793643_0005 running in uber mode : false\n",
            "21/08/02 20:28:20 INFO mapreduce.Job:  map 0% reduce 0%\n",
            "21/08/02 20:28:33 INFO mapreduce.Job:  map 33% reduce 0%\n",
            "21/08/02 20:28:35 INFO mapreduce.Job:  map 67% reduce 0%\n",
            "21/08/02 20:28:36 INFO mapreduce.Job:  map 100% reduce 0%\n",
            "21/08/02 20:28:37 INFO mapreduce.Job: Job job_1627933793643_0005 completed successfully\n",
            "21/08/02 20:28:37 INFO mapreduce.Job: Counters: 30\n",
            "\tFile System Counters\n",
            "\t\tFILE: Number of bytes read=0\n",
            "\t\tFILE: Number of bytes written=1031604\n",
            "\t\tFILE: Number of read operations=0\n",
            "\t\tFILE: Number of large read operations=0\n",
            "\t\tFILE: Number of write operations=0\n",
            "\t\tHDFS: Number of bytes read=337\n",
            "\t\tHDFS: Number of bytes written=38\n",
            "\t\tHDFS: Number of read operations=12\n",
            "\t\tHDFS: Number of large read operations=0\n",
            "\t\tHDFS: Number of write operations=6\n",
            "\tJob Counters \n",
            "\t\tLaunched map tasks=3\n",
            "\t\tOther local map tasks=3\n",
            "\t\tTotal time spent by all maps in occupied slots (ms)=34882\n",
            "\t\tTotal time spent by all reduces in occupied slots (ms)=0\n",
            "\t\tTotal time spent by all map tasks (ms)=34882\n",
            "\t\tTotal vcore-milliseconds taken by all map tasks=34882\n",
            "\t\tTotal megabyte-milliseconds taken by all map tasks=35719168\n",
            "\tMap-Reduce Framework\n",
            "\t\tMap input records=3\n",
            "\t\tMap output records=3\n",
            "\t\tInput split bytes=337\n",
            "\t\tSpilled Records=0\n",
            "\t\tFailed Shuffles=0\n",
            "\t\tMerged Map outputs=0\n",
            "\t\tGC time elapsed (ms)=843\n",
            "\t\tCPU time spent (ms)=6700\n",
            "\t\tPhysical memory (bytes) snapshot=657887232\n",
            "\t\tVirtual memory (bytes) snapshot=5465305088\n",
            "\t\tTotal committed heap usage (bytes)=456130560\n",
            "\tFile Input Format Counters \n",
            "\t\tBytes Read=0\n",
            "\tFile Output Format Counters \n",
            "\t\tBytes Written=38\n",
            "21/08/02 20:28:37 INFO mapreduce.ImportJobBase: Transferred 38 bytes in 27.9745 seconds (1.3584 bytes/sec)\n",
            "21/08/02 20:28:37 INFO mapreduce.ImportJobBase: Retrieved 3 records.\n",
            "21/08/02 20:28:37 INFO mapreduce.ImportJobBase: Publishing Hive/Hcat import job data to Listeners for table Artists\n",
            "21/08/02 20:28:37 INFO manager.SqlManager: Executing SQL statement: SELECT t.* FROM `Artists` AS t LIMIT 1\n",
            "21/08/02 20:28:37 INFO hive.HiveImport: Loading uploaded data into Hive\n",
            "21/08/02 20:28:37 WARN conf.HiveConf: HiveConf of name hive.enforce.bucketing does not exist\n",
            "21/08/02 20:28:39 INFO hive.HiveImport: SLF4J: Class path contains multiple SLF4J bindings.\n",
            "21/08/02 20:28:39 INFO hive.HiveImport: SLF4J: Found binding in [jar:file:/content/apache-hive-2.3.7-bin/lib/log4j-slf4j-impl-2.6.2.jar!/org/slf4j/impl/StaticLoggerBinder.class]\n",
            "21/08/02 20:28:39 INFO hive.HiveImport: SLF4J: Found binding in [jar:file:/content/hadoop-2.10.0/share/hadoop/common/lib/slf4j-log4j12-1.7.25.jar!/org/slf4j/impl/StaticLoggerBinder.class]\n",
            "21/08/02 20:28:39 INFO hive.HiveImport: SLF4J: See http://www.slf4j.org/codes.html#multiple_bindings for an explanation.\n",
            "21/08/02 20:28:39 INFO hive.HiveImport: SLF4J: Actual binding is of type [org.apache.logging.slf4j.Log4jLoggerFactory]\n",
            "21/08/02 20:28:43 INFO hive.HiveImport: \n",
            "21/08/02 20:28:43 INFO hive.HiveImport: Logging initialized using configuration in jar:file:/content/apache-hive-2.3.7-bin/lib/hive-common-2.3.7.jar!/hive-log4j2.properties Async: true\n",
            "21/08/02 20:28:54 INFO hive.HiveImport: OK\n",
            "21/08/02 20:28:54 INFO hive.HiveImport: Time taken: 9.573 seconds\n",
            "21/08/02 20:28:55 INFO hive.HiveImport: Loading data to table default.artists\n",
            "21/08/02 20:28:56 INFO hive.HiveImport: OK\n",
            "21/08/02 20:28:56 INFO hive.HiveImport: Time taken: 1.471 seconds\n",
            "21/08/02 20:28:56 INFO hive.HiveImport: Hive import complete.\n",
            "21/08/02 20:28:56 INFO hive.HiveImport: Export directory is contains the _SUCCESS file only, removing the directory.\n"
          ],
          "name": "stdout"
        }
      ]
    },
    {
      "cell_type": "code",
      "metadata": {
        "id": "lLUz6SvN_a7y",
        "colab": {
          "base_uri": "https://localhost:8080/"
        },
        "outputId": "76656bc0-4720-4fbe-cb50-8bce423c5d55"
      },
      "source": [
        "!hdfs dfs -ls /user/hive/warehouse"
      ],
      "execution_count": null,
      "outputs": [
        {
          "output_type": "stream",
          "text": [
            "Found 3 items\n",
            "drwxrwxr-x   - root supergroup          0 2021-08-02 20:28 /user/hive/warehouse/albums\n",
            "drwxrwxr-x   - root supergroup          0 2021-08-02 20:28 /user/hive/warehouse/artists\n",
            "drwxrwxr-x   - root supergroup          0 2021-08-02 20:24 /user/hive/warehouse/hivealbums\n"
          ],
          "name": "stdout"
        }
      ]
    },
    {
      "cell_type": "code",
      "metadata": {
        "colab": {
          "base_uri": "https://localhost:8080/"
        },
        "id": "F5K2s8QOklzW",
        "outputId": "4d71b8e7-bfd6-4d13-a356-aa160a721efa"
      },
      "source": [
        "!hdfs dfs -ls /user/hive/warehouse/albums"
      ],
      "execution_count": null,
      "outputs": [
        {
          "output_type": "stream",
          "text": [
            "Found 4 items\n",
            "-rwxrwxr-x   1 root supergroup         94 2021-08-02 20:27 /user/hive/warehouse/albums/part-m-00000\n",
            "-rwxrwxr-x   1 root supergroup         98 2021-08-02 20:27 /user/hive/warehouse/albums/part-m-00001\n",
            "-rwxrwxr-x   1 root supergroup        127 2021-08-02 20:27 /user/hive/warehouse/albums/part-m-00002\n",
            "-rwxrwxr-x   1 root supergroup        152 2021-08-02 20:27 /user/hive/warehouse/albums/part-m-00003\n"
          ],
          "name": "stdout"
        }
      ]
    },
    {
      "cell_type": "code",
      "metadata": {
        "colab": {
          "base_uri": "https://localhost:8080/"
        },
        "id": "ZgGhqq5Mk1AH",
        "outputId": "557d7da9-fd73-4d2c-c653-e920e4b29b44"
      },
      "source": [
        "!hdfs dfs -cat /user/hive/warehouse/albums/part-m-00000"
      ],
      "execution_count": null,
      "outputs": [
        {
          "output_type": "stream",
          "text": [
            "1\u0001Desiertos\u00011990\u00011\n",
            "2\u0001Doble opuesto\u00011991\u00011\n",
            "3\u0001La Ley\u00011993\u00011\n",
            "4\u0001Invisible\u00011995\u00011\n",
            "5\u0001Vertigo\u00011998\u00011\n"
          ],
          "name": "stdout"
        }
      ]
    },
    {
      "cell_type": "code",
      "metadata": {
        "colab": {
          "base_uri": "https://localhost:8080/"
        },
        "id": "SOrtdA9mlAtl",
        "outputId": "9c248d11-b28b-4cb3-bacd-657d87db1d18"
      },
      "source": [
        "!hdfs dfs -cat /user/hive/warehouse/albums/part-m-00001"
      ],
      "execution_count": null,
      "outputs": [
        {
          "output_type": "stream",
          "text": [
            "6\u0001Uno\u00012000\u00011\n",
            "7\u0001Libertad\u00012003\u00011\n",
            "8\u0001Adaptacion\u00012016\u00011\n",
            "9\u0001Los Tres\u00011991\u00012\n",
            "10\u0001Se remata el siglo\u00011993\u00012\n"
          ],
          "name": "stdout"
        }
      ]
    },
    {
      "cell_type": "markdown",
      "metadata": {
        "id": "NLCpANl3bWsS"
      },
      "source": [
        "## HiveQL"
      ]
    },
    {
      "cell_type": "code",
      "metadata": {
        "id": "YUVYM2iophnh"
      },
      "source": [
        ""
      ],
      "execution_count": null,
      "outputs": []
    },
    {
      "cell_type": "code",
      "metadata": {
        "id": "HqZzaqrev9U-",
        "colab": {
          "base_uri": "https://localhost:8080/"
        },
        "outputId": "301db26d-9471-4d51-ee0f-80c05178dbe6"
      },
      "source": [
        "!hive"
      ],
      "execution_count": null,
      "outputs": [
        {
          "output_type": "stream",
          "text": [
            "SLF4J: Class path contains multiple SLF4J bindings.\n",
            "SLF4J: Found binding in [jar:file:/content/apache-hive-2.3.7-bin/lib/log4j-slf4j-impl-2.6.2.jar!/org/slf4j/impl/StaticLoggerBinder.class]\n",
            "SLF4J: Found binding in [jar:file:/content/hadoop-2.10.0/share/hadoop/common/lib/slf4j-log4j12-1.7.25.jar!/org/slf4j/impl/StaticLoggerBinder.class]\n",
            "SLF4J: See http://www.slf4j.org/codes.html#multiple_bindings for an explanation.\n",
            "SLF4J: Actual binding is of type [org.apache.logging.slf4j.Log4jLoggerFactory]\n",
            "\n",
            "Logging initialized using configuration in jar:file:/content/apache-hive-2.3.7-bin/lib/hive-common-2.3.7.jar!/hive-log4j2.properties Async: true\n",
            "Hive-on-MR is deprecated in Hive 2 and may not be available in the future versions. Consider using a different execution engine (i.e. spark, tez) or using Hive 1.X releases.\n",
            "hive> show databases;\n",
            "OK\n",
            "database_name\n",
            "default\n",
            "Time taken: 6.695 seconds, Fetched: 1 row(s)\n",
            "hive> show tables;\n",
            "OK\n",
            "tab_name\n",
            "albums\n",
            "artists\n",
            "hivealbums\n",
            "Time taken: 0.432 seconds, Fetched: 3 row(s)\n",
            "hive> select * from artists;\n",
            "OK\n",
            "artists.artist_id\tartists.name\n",
            "1\tLa Ley\n",
            "2\tLos Tres\n",
            "3\tLos Prisioneros\n",
            "Time taken: 2.707 seconds, Fetched: 3 row(s)\n",
            "hive> select * from albums;\n",
            "OK\n",
            "albums.album_id\talbums.name\talbums.year\talbums.artist_id\n",
            "1\tDesiertos\t1990\t1\n",
            "2\tDoble opuesto\t1991\t1\n",
            "3\tLa Ley\t1993\t1\n",
            "4\tInvisible\t1995\t1\n",
            "5\tVertigo\t1998\t1\n",
            "6\tUno\t2000\t1\n",
            "7\tLibertad\t2003\t1\n",
            "8\tAdaptacion\t2016\t1\n",
            "9\tLos Tres\t1991\t2\n",
            "10\tSe remata el siglo\t1993\t2\n",
            "11\tLa espada & la pared\t1995\t2\n",
            "12\tFome\t1997\t2\n",
            "13\tLa sangre en el cuerpo\t1999\t2\n",
            "14\tHágalo usted mismo\t2006\t2\n",
            "15\tColiumo\t2010\t2\n",
            "16\tLa voz de los 80\t1984\t3\n",
            "17\tPateando piedras\t1986\t3\n",
            "18\tLa cultura de la basura\t1987\t3\n",
            "19\tCorazones\t1990\t3\n",
            "20\tLos Prisioneros\t2003\t3\n",
            "21\tManzana\t2004\t3\n",
            "Time taken: 0.377 seconds, Fetched: 21 row(s)\n",
            "hive> exit;\n"
          ],
          "name": "stdout"
        }
      ]
    },
    {
      "cell_type": "markdown",
      "metadata": {
        "id": "obKrcw-eh5JF"
      },
      "source": [
        "**Escritura de script mediante cell magic \"writefile\":**\n",
        "\n",
        "%%writefile \\<filename\\>\n",
        "\n",
        "**Ejecución de script HiveQL:**\n",
        "\n",
        "hive -f \\<HiveQL query file\\>"
      ]
    },
    {
      "cell_type": "code",
      "metadata": {
        "id": "ldYRXuqxjb0y",
        "colab": {
          "base_uri": "https://localhost:8080/"
        },
        "outputId": "d1afbab6-2bf4-4d6e-c67c-89979e1399e3"
      },
      "source": [
        "%%writefile select_01.sql\n",
        "SELECT name, year FROM albums;"
      ],
      "execution_count": null,
      "outputs": [
        {
          "output_type": "stream",
          "text": [
            "Writing select_01.sql\n"
          ],
          "name": "stdout"
        }
      ]
    },
    {
      "cell_type": "code",
      "metadata": {
        "id": "fsuIdMaykJW3",
        "colab": {
          "base_uri": "https://localhost:8080/"
        },
        "outputId": "7e733960-9900-4324-e205-808ed5558a61"
      },
      "source": [
        "!hive -f select_01.sql"
      ],
      "execution_count": null,
      "outputs": [
        {
          "output_type": "stream",
          "text": [
            "SLF4J: Class path contains multiple SLF4J bindings.\n",
            "SLF4J: Found binding in [jar:file:/content/apache-hive-2.3.7-bin/lib/log4j-slf4j-impl-2.6.2.jar!/org/slf4j/impl/StaticLoggerBinder.class]\n",
            "SLF4J: Found binding in [jar:file:/content/hadoop-2.10.0/share/hadoop/common/lib/slf4j-log4j12-1.7.25.jar!/org/slf4j/impl/StaticLoggerBinder.class]\n",
            "SLF4J: See http://www.slf4j.org/codes.html#multiple_bindings for an explanation.\n",
            "SLF4J: Actual binding is of type [org.apache.logging.slf4j.Log4jLoggerFactory]\n",
            "\n",
            "Logging initialized using configuration in jar:file:/content/apache-hive-2.3.7-bin/lib/hive-common-2.3.7.jar!/hive-log4j2.properties Async: true\n",
            "OK\n",
            "name\tyear\n",
            "Desiertos\t1990\n",
            "Doble opuesto\t1991\n",
            "La Ley\t1993\n",
            "Invisible\t1995\n",
            "Vertigo\t1998\n",
            "Uno\t2000\n",
            "Libertad\t2003\n",
            "Adaptacion\t2016\n",
            "Los Tres\t1991\n",
            "Se remata el siglo\t1993\n",
            "La espada & la pared\t1995\n",
            "Fome\t1997\n",
            "La sangre en el cuerpo\t1999\n",
            "Hágalo usted mismo\t2006\n",
            "Coliumo\t2010\n",
            "La voz de los 80\t1984\n",
            "Pateando piedras\t1986\n",
            "La cultura de la basura\t1987\n",
            "Corazones\t1990\n",
            "Los Prisioneros\t2003\n",
            "Manzana\t2004\n",
            "Time taken: 10.975 seconds, Fetched: 21 row(s)\n"
          ],
          "name": "stdout"
        }
      ]
    },
    {
      "cell_type": "code",
      "metadata": {
        "id": "qh9uvrZk9EhY",
        "colab": {
          "base_uri": "https://localhost:8080/"
        },
        "outputId": "a07dcd45-d0a2-4a4f-ce64-8f3dcc15390a"
      },
      "source": [
        "%%writefile select_02.sql\n",
        "SELECT artists.name, albums.name, albums.year FROM artists JOIN albums ON artists.artist_id = albums.artist_id;"
      ],
      "execution_count": null,
      "outputs": [
        {
          "output_type": "stream",
          "text": [
            "Writing select_02.sql\n"
          ],
          "name": "stdout"
        }
      ]
    },
    {
      "cell_type": "code",
      "metadata": {
        "id": "Wx2zOWzg7bKp",
        "colab": {
          "base_uri": "https://localhost:8080/"
        },
        "outputId": "3688af4b-034d-48e5-f3ff-b8210342065f"
      },
      "source": [
        "!hive -f select_02.sql"
      ],
      "execution_count": null,
      "outputs": [
        {
          "output_type": "stream",
          "text": [
            "SLF4J: Class path contains multiple SLF4J bindings.\n",
            "SLF4J: Found binding in [jar:file:/content/apache-hive-2.3.7-bin/lib/log4j-slf4j-impl-2.6.2.jar!/org/slf4j/impl/StaticLoggerBinder.class]\n",
            "SLF4J: Found binding in [jar:file:/content/hadoop-2.10.0/share/hadoop/common/lib/slf4j-log4j12-1.7.25.jar!/org/slf4j/impl/StaticLoggerBinder.class]\n",
            "SLF4J: See http://www.slf4j.org/codes.html#multiple_bindings for an explanation.\n",
            "SLF4J: Actual binding is of type [org.apache.logging.slf4j.Log4jLoggerFactory]\n",
            "\n",
            "Logging initialized using configuration in jar:file:/content/apache-hive-2.3.7-bin/lib/hive-common-2.3.7.jar!/hive-log4j2.properties Async: true\n",
            "WARNING: Hive-on-MR is deprecated in Hive 2 and may not be available in the future versions. Consider using a different execution engine (i.e. spark, tez) or using Hive 1.X releases.\n",
            "Query ID = root_20210802210217_d7cdef6d-ee66-4276-b5ae-0f2297f304e2\n",
            "Total jobs = 1\n",
            "SLF4J: Class path contains multiple SLF4J bindings.\n",
            "SLF4J: Found binding in [jar:file:/content/apache-hive-2.3.7-bin/lib/log4j-slf4j-impl-2.6.2.jar!/org/slf4j/impl/StaticLoggerBinder.class]\n",
            "SLF4J: Found binding in [jar:file:/content/hadoop-2.10.0/share/hadoop/common/lib/slf4j-log4j12-1.7.25.jar!/org/slf4j/impl/StaticLoggerBinder.class]\n",
            "SLF4J: See http://www.slf4j.org/codes.html#multiple_bindings for an explanation.\n",
            "SLF4J: Actual binding is of type [org.apache.logging.slf4j.Log4jLoggerFactory]\n",
            "2021-08-02 21:02:38\tStarting to launch local task to process map join;\tmaximum memory = 477626368\n",
            "2021-08-02 21:02:40\tDump the side-table for tag: 0 with group count: 3 into file: file:/tmp/root/e4ccfd99-8783-450c-9b8c-806b808e348c/hive_2021-08-02_21-02-17_896_1249468900444425283-1/-local-10004/HashTable-Stage-3/MapJoin-mapfile00--.hashtable\n",
            "2021-08-02 21:02:40\tUploaded 1 File to: file:/tmp/root/e4ccfd99-8783-450c-9b8c-806b808e348c/hive_2021-08-02_21-02-17_896_1249468900444425283-1/-local-10004/HashTable-Stage-3/MapJoin-mapfile00--.hashtable (349 bytes)\n",
            "2021-08-02 21:02:40\tEnd of local task; Time Taken: 2.143 sec.\n",
            "Execution completed successfully\n",
            "MapredLocal task succeeded\n",
            "Launching Job 1 out of 1\n",
            "Number of reduce tasks is set to 0 since there's no reduce operator\n",
            "Starting Job = job_1627933793643_0006, Tracking URL = http://b3c378b8a99b:8088/proxy/application_1627933793643_0006/\n",
            "Kill Command = /content/hadoop/bin/hadoop job  -kill job_1627933793643_0006\n",
            "Hadoop job information for Stage-3: number of mappers: 1; number of reducers: 0\n",
            "2021-08-02 21:02:51,691 Stage-3 map = 0%,  reduce = 0%\n",
            "2021-08-02 21:02:59,312 Stage-3 map = 100%,  reduce = 0%, Cumulative CPU 2.74 sec\n",
            "MapReduce Total cumulative CPU time: 2 seconds 740 msec\n",
            "Ended Job = job_1627933793643_0006\n",
            "MapReduce Jobs Launched: \n",
            "Stage-Stage-3: Map: 1   Cumulative CPU: 2.74 sec   HDFS Read: 7408 HDFS Write: 931 SUCCESS\n",
            "Total MapReduce CPU Time Spent: 2 seconds 740 msec\n",
            "OK\n",
            "artists.name\talbums.name\talbums.year\n",
            "La Ley\tDesiertos\t1990\n",
            "La Ley\tDoble opuesto\t1991\n",
            "La Ley\tLa Ley\t1993\n",
            "La Ley\tInvisible\t1995\n",
            "La Ley\tVertigo\t1998\n",
            "La Ley\tUno\t2000\n",
            "La Ley\tLibertad\t2003\n",
            "La Ley\tAdaptacion\t2016\n",
            "Los Tres\tLos Tres\t1991\n",
            "Los Tres\tSe remata el siglo\t1993\n",
            "Los Tres\tLa espada & la pared\t1995\n",
            "Los Tres\tFome\t1997\n",
            "Los Tres\tLa sangre en el cuerpo\t1999\n",
            "Los Tres\tHágalo usted mismo\t2006\n",
            "Los Tres\tColiumo\t2010\n",
            "Los Prisioneros\tLa voz de los 80\t1984\n",
            "Los Prisioneros\tPateando piedras\t1986\n",
            "Los Prisioneros\tLa cultura de la basura\t1987\n",
            "Los Prisioneros\tCorazones\t1990\n",
            "Los Prisioneros\tLos Prisioneros\t2003\n",
            "Los Prisioneros\tManzana\t2004\n",
            "Time taken: 43.709 seconds, Fetched: 21 row(s)\n"
          ],
          "name": "stdout"
        }
      ]
    },
    {
      "cell_type": "code",
      "metadata": {
        "id": "Hgq69OnM6rQT",
        "colab": {
          "base_uri": "https://localhost:8080/"
        },
        "outputId": "d260aac3-3ae7-431e-cac6-68c57d0f885c"
      },
      "source": [
        "%%writefile select_03.sql\n",
        "SELECT artists.name, albums.name, albums.year FROM artists JOIN albums ON artists.artist_id = albums.artist_id ORDER BY albums.year;"
      ],
      "execution_count": null,
      "outputs": [
        {
          "output_type": "stream",
          "text": [
            "Writing select_03.sql\n"
          ],
          "name": "stdout"
        }
      ]
    },
    {
      "cell_type": "code",
      "metadata": {
        "id": "CnISqp057fB6",
        "colab": {
          "base_uri": "https://localhost:8080/"
        },
        "outputId": "27e702a7-8bd1-4f70-f1c8-92f5e6af85ca"
      },
      "source": [
        "!hive -f select_03.sql"
      ],
      "execution_count": null,
      "outputs": [
        {
          "output_type": "stream",
          "text": [
            "SLF4J: Class path contains multiple SLF4J bindings.\n",
            "SLF4J: Found binding in [jar:file:/content/apache-hive-2.3.7-bin/lib/log4j-slf4j-impl-2.6.2.jar!/org/slf4j/impl/StaticLoggerBinder.class]\n",
            "SLF4J: Found binding in [jar:file:/content/hadoop-2.10.0/share/hadoop/common/lib/slf4j-log4j12-1.7.25.jar!/org/slf4j/impl/StaticLoggerBinder.class]\n",
            "SLF4J: See http://www.slf4j.org/codes.html#multiple_bindings for an explanation.\n",
            "SLF4J: Actual binding is of type [org.apache.logging.slf4j.Log4jLoggerFactory]\n",
            "\n",
            "Logging initialized using configuration in jar:file:/content/apache-hive-2.3.7-bin/lib/hive-common-2.3.7.jar!/hive-log4j2.properties Async: true\n",
            "WARNING: Hive-on-MR is deprecated in Hive 2 and may not be available in the future versions. Consider using a different execution engine (i.e. spark, tez) or using Hive 1.X releases.\n",
            "Query ID = root_20210802210505_faaebb7f-dc4d-42e3-80fc-20d677c371b1\n",
            "Total jobs = 1\n",
            "SLF4J: Class path contains multiple SLF4J bindings.\n",
            "SLF4J: Found binding in [jar:file:/content/apache-hive-2.3.7-bin/lib/log4j-slf4j-impl-2.6.2.jar!/org/slf4j/impl/StaticLoggerBinder.class]\n",
            "SLF4J: Found binding in [jar:file:/content/hadoop-2.10.0/share/hadoop/common/lib/slf4j-log4j12-1.7.25.jar!/org/slf4j/impl/StaticLoggerBinder.class]\n",
            "SLF4J: See http://www.slf4j.org/codes.html#multiple_bindings for an explanation.\n",
            "SLF4J: Actual binding is of type [org.apache.logging.slf4j.Log4jLoggerFactory]\n",
            "2021-08-02 21:05:26\tStarting to launch local task to process map join;\tmaximum memory = 477626368\n",
            "2021-08-02 21:05:28\tDump the side-table for tag: 0 with group count: 3 into file: file:/tmp/root/c2ea93bb-e1c5-43b4-8edb-8305d978036c/hive_2021-08-02_21-05-05_524_7467840267546690401-1/-local-10005/HashTable-Stage-2/MapJoin-mapfile00--.hashtable\n",
            "2021-08-02 21:05:28\tUploaded 1 File to: file:/tmp/root/c2ea93bb-e1c5-43b4-8edb-8305d978036c/hive_2021-08-02_21-05-05_524_7467840267546690401-1/-local-10005/HashTable-Stage-2/MapJoin-mapfile00--.hashtable (349 bytes)\n",
            "2021-08-02 21:05:28\tEnd of local task; Time Taken: 1.709 sec.\n",
            "Execution completed successfully\n",
            "MapredLocal task succeeded\n",
            "Launching Job 1 out of 1\n",
            "Number of reduce tasks determined at compile time: 1\n",
            "In order to change the average load for a reducer (in bytes):\n",
            "  set hive.exec.reducers.bytes.per.reducer=<number>\n",
            "In order to limit the maximum number of reducers:\n",
            "  set hive.exec.reducers.max=<number>\n",
            "In order to set a constant number of reducers:\n",
            "  set mapreduce.job.reduces=<number>\n",
            "Starting Job = job_1627933793643_0007, Tracking URL = http://b3c378b8a99b:8088/proxy/application_1627933793643_0007/\n",
            "Kill Command = /content/hadoop/bin/hadoop job  -kill job_1627933793643_0007\n",
            "Hadoop job information for Stage-2: number of mappers: 1; number of reducers: 1\n",
            "2021-08-02 21:05:39,152 Stage-2 map = 0%,  reduce = 0%\n",
            "2021-08-02 21:05:46,653 Stage-2 map = 100%,  reduce = 0%, Cumulative CPU 3.26 sec\n",
            "2021-08-02 21:05:53,119 Stage-2 map = 100%,  reduce = 100%, Cumulative CPU 3.26 sec\n",
            "MapReduce Total cumulative CPU time: 5 seconds 720 msec\n",
            "Ended Job = job_1627933793643_0007\n",
            "MapReduce Jobs Launched: \n",
            "Stage-Stage-2: Map: 1  Reduce: 1   Cumulative CPU: 5.72 sec   HDFS Read: 12349 HDFS Write: 931 SUCCESS\n",
            "Total MapReduce CPU Time Spent: 5 seconds 720 msec\n",
            "OK\n",
            "artists.name\talbums.name\talbums.year\n",
            "Los Prisioneros\tLa voz de los 80\t1984\n",
            "Los Prisioneros\tPateando piedras\t1986\n",
            "Los Prisioneros\tLa cultura de la basura\t1987\n",
            "La Ley\tDesiertos\t1990\n",
            "Los Prisioneros\tCorazones\t1990\n",
            "La Ley\tDoble opuesto\t1991\n",
            "Los Tres\tLos Tres\t1991\n",
            "La Ley\tLa Ley\t1993\n",
            "Los Tres\tSe remata el siglo\t1993\n",
            "Los Tres\tLa espada & la pared\t1995\n",
            "La Ley\tInvisible\t1995\n",
            "Los Tres\tFome\t1997\n",
            "La Ley\tVertigo\t1998\n",
            "Los Tres\tLa sangre en el cuerpo\t1999\n",
            "La Ley\tUno\t2000\n",
            "La Ley\tLibertad\t2003\n",
            "Los Prisioneros\tLos Prisioneros\t2003\n",
            "Los Prisioneros\tManzana\t2004\n",
            "Los Tres\tHágalo usted mismo\t2006\n",
            "Los Tres\tColiumo\t2010\n",
            "La Ley\tAdaptacion\t2016\n",
            "Time taken: 49.895 seconds, Fetched: 21 row(s)\n"
          ],
          "name": "stdout"
        }
      ]
    },
    {
      "cell_type": "code",
      "metadata": {
        "id": "lmscIbd76uFf",
        "colab": {
          "base_uri": "https://localhost:8080/"
        },
        "outputId": "4552edca-26f0-4da4-b95f-24a5686f019e"
      },
      "source": [
        "%%writefile select_04.sql\n",
        "SELECT artists.name, COUNT(*) FROM artists JOIN albums ON artists.artist_id = albums.artist_id GROUP BY artists.name;"
      ],
      "execution_count": null,
      "outputs": [
        {
          "output_type": "stream",
          "text": [
            "Writing select_04.sql\n"
          ],
          "name": "stdout"
        }
      ]
    },
    {
      "cell_type": "code",
      "metadata": {
        "id": "RhM1-kcE7gel",
        "colab": {
          "base_uri": "https://localhost:8080/"
        },
        "outputId": "3cbe8c6c-148d-41bf-9098-e50b747e42f1"
      },
      "source": [
        "!hive -f select_04.sql"
      ],
      "execution_count": null,
      "outputs": [
        {
          "output_type": "stream",
          "text": [
            "SLF4J: Class path contains multiple SLF4J bindings.\n",
            "SLF4J: Found binding in [jar:file:/content/apache-hive-2.3.7-bin/lib/log4j-slf4j-impl-2.6.2.jar!/org/slf4j/impl/StaticLoggerBinder.class]\n",
            "SLF4J: Found binding in [jar:file:/content/hadoop-2.10.0/share/hadoop/common/lib/slf4j-log4j12-1.7.25.jar!/org/slf4j/impl/StaticLoggerBinder.class]\n",
            "SLF4J: See http://www.slf4j.org/codes.html#multiple_bindings for an explanation.\n",
            "SLF4J: Actual binding is of type [org.apache.logging.slf4j.Log4jLoggerFactory]\n",
            "\n",
            "Logging initialized using configuration in jar:file:/content/apache-hive-2.3.7-bin/lib/hive-common-2.3.7.jar!/hive-log4j2.properties Async: true\n",
            "WARNING: Hive-on-MR is deprecated in Hive 2 and may not be available in the future versions. Consider using a different execution engine (i.e. spark, tez) or using Hive 1.X releases.\n",
            "Query ID = root_20210802210740_6b137148-6f2c-40be-b94f-b1a74fc3a331\n",
            "Total jobs = 1\n",
            "SLF4J: Class path contains multiple SLF4J bindings.\n",
            "SLF4J: Found binding in [jar:file:/content/apache-hive-2.3.7-bin/lib/log4j-slf4j-impl-2.6.2.jar!/org/slf4j/impl/StaticLoggerBinder.class]\n",
            "SLF4J: Found binding in [jar:file:/content/hadoop-2.10.0/share/hadoop/common/lib/slf4j-log4j12-1.7.25.jar!/org/slf4j/impl/StaticLoggerBinder.class]\n",
            "SLF4J: See http://www.slf4j.org/codes.html#multiple_bindings for an explanation.\n",
            "SLF4J: Actual binding is of type [org.apache.logging.slf4j.Log4jLoggerFactory]\n",
            "2021-08-02 21:07:59\tStarting to launch local task to process map join;\tmaximum memory = 477626368\n",
            "2021-08-02 21:08:01\tDump the side-table for tag: 0 with group count: 3 into file: file:/tmp/root/75123f56-6185-4916-a825-78711d046f77/hive_2021-08-02_21-07-41_099_45458551154245614-1/-local-10005/HashTable-Stage-2/MapJoin-mapfile00--.hashtable\n",
            "2021-08-02 21:08:01\tUploaded 1 File to: file:/tmp/root/75123f56-6185-4916-a825-78711d046f77/hive_2021-08-02_21-07-41_099_45458551154245614-1/-local-10005/HashTable-Stage-2/MapJoin-mapfile00--.hashtable (349 bytes)\n",
            "2021-08-02 21:08:01\tEnd of local task; Time Taken: 1.962 sec.\n",
            "Execution completed successfully\n",
            "MapredLocal task succeeded\n",
            "Launching Job 1 out of 1\n",
            "Number of reduce tasks not specified. Estimated from input data size: 1\n",
            "In order to change the average load for a reducer (in bytes):\n",
            "  set hive.exec.reducers.bytes.per.reducer=<number>\n",
            "In order to limit the maximum number of reducers:\n",
            "  set hive.exec.reducers.max=<number>\n",
            "In order to set a constant number of reducers:\n",
            "  set mapreduce.job.reduces=<number>\n",
            "Starting Job = job_1627933793643_0008, Tracking URL = http://b3c378b8a99b:8088/proxy/application_1627933793643_0008/\n",
            "Kill Command = /content/hadoop/bin/hadoop job  -kill job_1627933793643_0008\n",
            "Hadoop job information for Stage-2: number of mappers: 1; number of reducers: 1\n",
            "2021-08-02 21:08:12,899 Stage-2 map = 0%,  reduce = 0%\n",
            "2021-08-02 21:08:20,403 Stage-2 map = 100%,  reduce = 0%, Cumulative CPU 2.78 sec\n",
            "2021-08-02 21:08:27,726 Stage-2 map = 100%,  reduce = 100%, Cumulative CPU 4.84 sec\n",
            "MapReduce Total cumulative CPU time: 4 seconds 840 msec\n",
            "Ended Job = job_1627933793643_0008\n",
            "MapReduce Jobs Launched: \n",
            "Stage-Stage-2: Map: 1  Reduce: 1   Cumulative CPU: 4.84 sec   HDFS Read: 12105 HDFS Write: 161 SUCCESS\n",
            "Total MapReduce CPU Time Spent: 4 seconds 840 msec\n",
            "OK\n",
            "artists.name\t_c1\n",
            "La Ley\t8\n",
            "Los Prisioneros\t6\n",
            "Los Tres\t7\n",
            "Time taken: 47.877 seconds, Fetched: 3 row(s)\n"
          ],
          "name": "stdout"
        }
      ]
    },
    {
      "cell_type": "code",
      "metadata": {
        "id": "vCVyMzGr6w8f",
        "colab": {
          "base_uri": "https://localhost:8080/"
        },
        "outputId": "4e3eaff7-2af7-49be-9604-e19267cd8e9e"
      },
      "source": [
        "%%writefile select_05.sql\n",
        "SELECT * FROM albums WHERE year < 1995;"
      ],
      "execution_count": null,
      "outputs": [
        {
          "output_type": "stream",
          "text": [
            "Writing select_05.sql\n"
          ],
          "name": "stdout"
        }
      ]
    },
    {
      "cell_type": "code",
      "metadata": {
        "id": "ozD3DhxJ7iHv",
        "colab": {
          "base_uri": "https://localhost:8080/"
        },
        "outputId": "1eededee-8dfd-43db-da48-a4fc4d8a5eed"
      },
      "source": [
        "!hive -f select_05.sql"
      ],
      "execution_count": null,
      "outputs": [
        {
          "output_type": "stream",
          "text": [
            "SLF4J: Class path contains multiple SLF4J bindings.\n",
            "SLF4J: Found binding in [jar:file:/content/apache-hive-2.3.7-bin/lib/log4j-slf4j-impl-2.6.2.jar!/org/slf4j/impl/StaticLoggerBinder.class]\n",
            "SLF4J: Found binding in [jar:file:/content/hadoop-2.10.0/share/hadoop/common/lib/slf4j-log4j12-1.7.25.jar!/org/slf4j/impl/StaticLoggerBinder.class]\n",
            "SLF4J: See http://www.slf4j.org/codes.html#multiple_bindings for an explanation.\n",
            "SLF4J: Actual binding is of type [org.apache.logging.slf4j.Log4jLoggerFactory]\n",
            "\n",
            "Logging initialized using configuration in jar:file:/content/apache-hive-2.3.7-bin/lib/hive-common-2.3.7.jar!/hive-log4j2.properties Async: true\n",
            "OK\n",
            "albums.album_id\talbums.name\talbums.year\talbums.artist_id\n",
            "1\tDesiertos\t1990\t1\n",
            "2\tDoble opuesto\t1991\t1\n",
            "3\tLa Ley\t1993\t1\n",
            "9\tLos Tres\t1991\t2\n",
            "10\tSe remata el siglo\t1993\t2\n",
            "16\tLa voz de los 80\t1984\t3\n",
            "17\tPateando piedras\t1986\t3\n",
            "18\tLa cultura de la basura\t1987\t3\n",
            "19\tCorazones\t1990\t3\n",
            "Time taken: 10.363 seconds, Fetched: 9 row(s)\n"
          ],
          "name": "stdout"
        }
      ]
    },
    {
      "cell_type": "code",
      "metadata": {
        "id": "lGWANl4E6x-i",
        "colab": {
          "base_uri": "https://localhost:8080/"
        },
        "outputId": "24a6da88-68d5-4278-cf5f-659fd09e4b78"
      },
      "source": [
        "%%writefile insert_artist.sql\n",
        "INSERT INTO artists VALUES (4, 'Lucybell');\n",
        "SELECT * FROM artists;"
      ],
      "execution_count": null,
      "outputs": [
        {
          "output_type": "stream",
          "text": [
            "Writing insert_artist.sql\n"
          ],
          "name": "stdout"
        }
      ]
    },
    {
      "cell_type": "code",
      "metadata": {
        "id": "POkbRprm7jp-",
        "colab": {
          "base_uri": "https://localhost:8080/"
        },
        "outputId": "1103dfa8-afc1-4169-cc3c-f780ac29196a"
      },
      "source": [
        "!hive -f insert_artist.sql"
      ],
      "execution_count": null,
      "outputs": [
        {
          "output_type": "stream",
          "text": [
            "SLF4J: Class path contains multiple SLF4J bindings.\n",
            "SLF4J: Found binding in [jar:file:/content/apache-hive-2.3.7-bin/lib/log4j-slf4j-impl-2.6.2.jar!/org/slf4j/impl/StaticLoggerBinder.class]\n",
            "SLF4J: Found binding in [jar:file:/content/hadoop-2.10.0/share/hadoop/common/lib/slf4j-log4j12-1.7.25.jar!/org/slf4j/impl/StaticLoggerBinder.class]\n",
            "SLF4J: See http://www.slf4j.org/codes.html#multiple_bindings for an explanation.\n",
            "SLF4J: Actual binding is of type [org.apache.logging.slf4j.Log4jLoggerFactory]\n",
            "\n",
            "Logging initialized using configuration in jar:file:/content/apache-hive-2.3.7-bin/lib/hive-common-2.3.7.jar!/hive-log4j2.properties Async: true\n",
            "WARNING: Hive-on-MR is deprecated in Hive 2 and may not be available in the future versions. Consider using a different execution engine (i.e. spark, tez) or using Hive 1.X releases.\n",
            "Query ID = root_20210802211531_417fddf4-1131-4967-be95-bb0055e6e591\n",
            "Total jobs = 3\n",
            "Launching Job 1 out of 3\n",
            "Number of reduce tasks is set to 0 since there's no reduce operator\n",
            "Starting Job = job_1627933793643_0009, Tracking URL = http://b3c378b8a99b:8088/proxy/application_1627933793643_0009/\n",
            "Kill Command = /content/hadoop/bin/hadoop job  -kill job_1627933793643_0009\n",
            "Hadoop job information for Stage-1: number of mappers: 1; number of reducers: 0\n",
            "2021-08-02 21:15:50,917 Stage-1 map = 0%,  reduce = 0%\n",
            "2021-08-02 21:15:58,464 Stage-1 map = 100%,  reduce = 0%, Cumulative CPU 2.4 sec\n",
            "MapReduce Total cumulative CPU time: 2 seconds 400 msec\n",
            "Ended Job = job_1627933793643_0009\n",
            "Stage-4 is selected by condition resolver.\n",
            "Stage-3 is filtered out by condition resolver.\n",
            "Stage-5 is filtered out by condition resolver.\n",
            "Moving data to directory hdfs://localhost:9000/user/hive/warehouse/artists/.hive-staging_hive_2021-08-02_21-15-31_543_6562965601882787958-1/-ext-10000\n",
            "Loading data to table default.artists\n",
            "MapReduce Jobs Launched: \n",
            "Stage-Stage-1: Map: 1   Cumulative CPU: 2.4 sec   HDFS Read: 4213 HDFS Write: 82 SUCCESS\n",
            "Total MapReduce CPU Time Spent: 2 seconds 400 msec\n",
            "OK\n",
            "_col0\t_col1\n",
            "Time taken: 29.036 seconds\n",
            "OK\n",
            "artists.artist_id\tartists.name\n",
            "4\tLucybell\n",
            "1\tLa Ley\n",
            "2\tLos Tres\n",
            "3\tLos Prisioneros\n",
            "Time taken: 0.358 seconds, Fetched: 4 row(s)\n"
          ],
          "name": "stdout"
        }
      ]
    },
    {
      "cell_type": "code",
      "metadata": {
        "id": "L83r3dp3aSmu",
        "colab": {
          "resources": {
            "http://localhost:8080/nbextensions/google.colab/files.js": {
              "data": "Ly8gQ29weXJpZ2h0IDIwMTcgR29vZ2xlIExMQwovLwovLyBMaWNlbnNlZCB1bmRlciB0aGUgQXBhY2hlIExpY2Vuc2UsIFZlcnNpb24gMi4wICh0aGUgIkxpY2Vuc2UiKTsKLy8geW91IG1heSBub3QgdXNlIHRoaXMgZmlsZSBleGNlcHQgaW4gY29tcGxpYW5jZSB3aXRoIHRoZSBMaWNlbnNlLgovLyBZb3UgbWF5IG9idGFpbiBhIGNvcHkgb2YgdGhlIExpY2Vuc2UgYXQKLy8KLy8gICAgICBodHRwOi8vd3d3LmFwYWNoZS5vcmcvbGljZW5zZXMvTElDRU5TRS0yLjAKLy8KLy8gVW5sZXNzIHJlcXVpcmVkIGJ5IGFwcGxpY2FibGUgbGF3IG9yIGFncmVlZCB0byBpbiB3cml0aW5nLCBzb2Z0d2FyZQovLyBkaXN0cmlidXRlZCB1bmRlciB0aGUgTGljZW5zZSBpcyBkaXN0cmlidXRlZCBvbiBhbiAiQVMgSVMiIEJBU0lTLAovLyBXSVRIT1VUIFdBUlJBTlRJRVMgT1IgQ09ORElUSU9OUyBPRiBBTlkgS0lORCwgZWl0aGVyIGV4cHJlc3Mgb3IgaW1wbGllZC4KLy8gU2VlIHRoZSBMaWNlbnNlIGZvciB0aGUgc3BlY2lmaWMgbGFuZ3VhZ2UgZ292ZXJuaW5nIHBlcm1pc3Npb25zIGFuZAovLyBsaW1pdGF0aW9ucyB1bmRlciB0aGUgTGljZW5zZS4KCi8qKgogKiBAZmlsZW92ZXJ2aWV3IEhlbHBlcnMgZm9yIGdvb2dsZS5jb2xhYiBQeXRob24gbW9kdWxlLgogKi8KKGZ1bmN0aW9uKHNjb3BlKSB7CmZ1bmN0aW9uIHNwYW4odGV4dCwgc3R5bGVBdHRyaWJ1dGVzID0ge30pIHsKICBjb25zdCBlbGVtZW50ID0gZG9jdW1lbnQuY3JlYXRlRWxlbWVudCgnc3BhbicpOwogIGVsZW1lbnQudGV4dENvbnRlbnQgPSB0ZXh0OwogIGZvciAoY29uc3Qga2V5IG9mIE9iamVjdC5rZXlzKHN0eWxlQXR0cmlidXRlcykpIHsKICAgIGVsZW1lbnQuc3R5bGVba2V5XSA9IHN0eWxlQXR0cmlidXRlc1trZXldOwogIH0KICByZXR1cm4gZWxlbWVudDsKfQoKLy8gTWF4IG51bWJlciBvZiBieXRlcyB3aGljaCB3aWxsIGJlIHVwbG9hZGVkIGF0IGEgdGltZS4KY29uc3QgTUFYX1BBWUxPQURfU0laRSA9IDEwMCAqIDEwMjQ7CgpmdW5jdGlvbiBfdXBsb2FkRmlsZXMoaW5wdXRJZCwgb3V0cHV0SWQpIHsKICBjb25zdCBzdGVwcyA9IHVwbG9hZEZpbGVzU3RlcChpbnB1dElkLCBvdXRwdXRJZCk7CiAgY29uc3Qgb3V0cHV0RWxlbWVudCA9IGRvY3VtZW50LmdldEVsZW1lbnRCeUlkKG91dHB1dElkKTsKICAvLyBDYWNoZSBzdGVwcyBvbiB0aGUgb3V0cHV0RWxlbWVudCB0byBtYWtlIGl0IGF2YWlsYWJsZSBmb3IgdGhlIG5leHQgY2FsbAogIC8vIHRvIHVwbG9hZEZpbGVzQ29udGludWUgZnJvbSBQeXRob24uCiAgb3V0cHV0RWxlbWVudC5zdGVwcyA9IHN0ZXBzOwoKICByZXR1cm4gX3VwbG9hZEZpbGVzQ29udGludWUob3V0cHV0SWQpOwp9CgovLyBUaGlzIGlzIHJvdWdobHkgYW4gYXN5bmMgZ2VuZXJhdG9yIChub3Qgc3VwcG9ydGVkIGluIHRoZSBicm93c2VyIHlldCksCi8vIHdoZXJlIHRoZXJlIGFyZSBtdWx0aXBsZSBhc3luY2hyb25vdXMgc3RlcHMgYW5kIHRoZSBQeXRob24gc2lkZSBpcyBnb2luZwovLyB0byBwb2xsIGZvciBjb21wbGV0aW9uIG9mIGVhY2ggc3RlcC4KLy8gVGhpcyB1c2VzIGEgUHJvbWlzZSB0byBibG9jayB0aGUgcHl0aG9uIHNpZGUgb24gY29tcGxldGlvbiBvZiBlYWNoIHN0ZXAsCi8vIHRoZW4gcGFzc2VzIHRoZSByZXN1bHQgb2YgdGhlIHByZXZpb3VzIHN0ZXAgYXMgdGhlIGlucHV0IHRvIHRoZSBuZXh0IHN0ZXAuCmZ1bmN0aW9uIF91cGxvYWRGaWxlc0NvbnRpbnVlKG91dHB1dElkKSB7CiAgY29uc3Qgb3V0cHV0RWxlbWVudCA9IGRvY3VtZW50LmdldEVsZW1lbnRCeUlkKG91dHB1dElkKTsKICBjb25zdCBzdGVwcyA9IG91dHB1dEVsZW1lbnQuc3RlcHM7CgogIGNvbnN0IG5leHQgPSBzdGVwcy5uZXh0KG91dHB1dEVsZW1lbnQubGFzdFByb21pc2VWYWx1ZSk7CiAgcmV0dXJuIFByb21pc2UucmVzb2x2ZShuZXh0LnZhbHVlLnByb21pc2UpLnRoZW4oKHZhbHVlKSA9PiB7CiAgICAvLyBDYWNoZSB0aGUgbGFzdCBwcm9taXNlIHZhbHVlIHRvIG1ha2UgaXQgYXZhaWxhYmxlIHRvIHRoZSBuZXh0CiAgICAvLyBzdGVwIG9mIHRoZSBnZW5lcmF0b3IuCiAgICBvdXRwdXRFbGVtZW50Lmxhc3RQcm9taXNlVmFsdWUgPSB2YWx1ZTsKICAgIHJldHVybiBuZXh0LnZhbHVlLnJlc3BvbnNlOwogIH0pOwp9CgovKioKICogR2VuZXJhdG9yIGZ1bmN0aW9uIHdoaWNoIGlzIGNhbGxlZCBiZXR3ZWVuIGVhY2ggYXN5bmMgc3RlcCBvZiB0aGUgdXBsb2FkCiAqIHByb2Nlc3MuCiAqIEBwYXJhbSB7c3RyaW5nfSBpbnB1dElkIEVsZW1lbnQgSUQgb2YgdGhlIGlucHV0IGZpbGUgcGlja2VyIGVsZW1lbnQuCiAqIEBwYXJhbSB7c3RyaW5nfSBvdXRwdXRJZCBFbGVtZW50IElEIG9mIHRoZSBvdXRwdXQgZGlzcGxheS4KICogQHJldHVybiB7IUl0ZXJhYmxlPCFPYmplY3Q+fSBJdGVyYWJsZSBvZiBuZXh0IHN0ZXBzLgogKi8KZnVuY3Rpb24qIHVwbG9hZEZpbGVzU3RlcChpbnB1dElkLCBvdXRwdXRJZCkgewogIGNvbnN0IGlucHV0RWxlbWVudCA9IGRvY3VtZW50LmdldEVsZW1lbnRCeUlkKGlucHV0SWQpOwogIGlucHV0RWxlbWVudC5kaXNhYmxlZCA9IGZhbHNlOwoKICBjb25zdCBvdXRwdXRFbGVtZW50ID0gZG9jdW1lbnQuZ2V0RWxlbWVudEJ5SWQob3V0cHV0SWQpOwogIG91dHB1dEVsZW1lbnQuaW5uZXJIVE1MID0gJyc7CgogIGNvbnN0IHBpY2tlZFByb21pc2UgPSBuZXcgUHJvbWlzZSgocmVzb2x2ZSkgPT4gewogICAgaW5wdXRFbGVtZW50LmFkZEV2ZW50TGlzdGVuZXIoJ2NoYW5nZScsIChlKSA9PiB7CiAgICAgIHJlc29sdmUoZS50YXJnZXQuZmlsZXMpOwogICAgfSk7CiAgfSk7CgogIGNvbnN0IGNhbmNlbCA9IGRvY3VtZW50LmNyZWF0ZUVsZW1lbnQoJ2J1dHRvbicpOwogIGlucHV0RWxlbWVudC5wYXJlbnRFbGVtZW50LmFwcGVuZENoaWxkKGNhbmNlbCk7CiAgY2FuY2VsLnRleHRDb250ZW50ID0gJ0NhbmNlbCB1cGxvYWQnOwogIGNvbnN0IGNhbmNlbFByb21pc2UgPSBuZXcgUHJvbWlzZSgocmVzb2x2ZSkgPT4gewogICAgY2FuY2VsLm9uY2xpY2sgPSAoKSA9PiB7CiAgICAgIHJlc29sdmUobnVsbCk7CiAgICB9OwogIH0pOwoKICAvLyBXYWl0IGZvciB0aGUgdXNlciB0byBwaWNrIHRoZSBmaWxlcy4KICBjb25zdCBmaWxlcyA9IHlpZWxkIHsKICAgIHByb21pc2U6IFByb21pc2UucmFjZShbcGlja2VkUHJvbWlzZSwgY2FuY2VsUHJvbWlzZV0pLAogICAgcmVzcG9uc2U6IHsKICAgICAgYWN0aW9uOiAnc3RhcnRpbmcnLAogICAgfQogIH07CgogIGNhbmNlbC5yZW1vdmUoKTsKCiAgLy8gRGlzYWJsZSB0aGUgaW5wdXQgZWxlbWVudCBzaW5jZSBmdXJ0aGVyIHBpY2tzIGFyZSBub3QgYWxsb3dlZC4KICBpbnB1dEVsZW1lbnQuZGlzYWJsZWQgPSB0cnVlOwoKICBpZiAoIWZpbGVzKSB7CiAgICByZXR1cm4gewogICAgICByZXNwb25zZTogewogICAgICAgIGFjdGlvbjogJ2NvbXBsZXRlJywKICAgICAgfQogICAgfTsKICB9CgogIGZvciAoY29uc3QgZmlsZSBvZiBmaWxlcykgewogICAgY29uc3QgbGkgPSBkb2N1bWVudC5jcmVhdGVFbGVtZW50KCdsaScpOwogICAgbGkuYXBwZW5kKHNwYW4oZmlsZS5uYW1lLCB7Zm9udFdlaWdodDogJ2JvbGQnfSkpOwogICAgbGkuYXBwZW5kKHNwYW4oCiAgICAgICAgYCgke2ZpbGUudHlwZSB8fCAnbi9hJ30pIC0gJHtmaWxlLnNpemV9IGJ5dGVzLCBgICsKICAgICAgICBgbGFzdCBtb2RpZmllZDogJHsKICAgICAgICAgICAgZmlsZS5sYXN0TW9kaWZpZWREYXRlID8gZmlsZS5sYXN0TW9kaWZpZWREYXRlLnRvTG9jYWxlRGF0ZVN0cmluZygpIDoKICAgICAgICAgICAgICAgICAgICAgICAgICAgICAgICAgICAgJ24vYSd9IC0gYCkpOwogICAgY29uc3QgcGVyY2VudCA9IHNwYW4oJzAlIGRvbmUnKTsKICAgIGxpLmFwcGVuZENoaWxkKHBlcmNlbnQpOwoKICAgIG91dHB1dEVsZW1lbnQuYXBwZW5kQ2hpbGQobGkpOwoKICAgIGNvbnN0IGZpbGVEYXRhUHJvbWlzZSA9IG5ldyBQcm9taXNlKChyZXNvbHZlKSA9PiB7CiAgICAgIGNvbnN0IHJlYWRlciA9IG5ldyBGaWxlUmVhZGVyKCk7CiAgICAgIHJlYWRlci5vbmxvYWQgPSAoZSkgPT4gewogICAgICAgIHJlc29sdmUoZS50YXJnZXQucmVzdWx0KTsKICAgICAgfTsKICAgICAgcmVhZGVyLnJlYWRBc0FycmF5QnVmZmVyKGZpbGUpOwogICAgfSk7CiAgICAvLyBXYWl0IGZvciB0aGUgZGF0YSB0byBiZSByZWFkeS4KICAgIGxldCBmaWxlRGF0YSA9IHlpZWxkIHsKICAgICAgcHJvbWlzZTogZmlsZURhdGFQcm9taXNlLAogICAgICByZXNwb25zZTogewogICAgICAgIGFjdGlvbjogJ2NvbnRpbnVlJywKICAgICAgfQogICAgfTsKCiAgICAvLyBVc2UgYSBjaHVua2VkIHNlbmRpbmcgdG8gYXZvaWQgbWVzc2FnZSBzaXplIGxpbWl0cy4gU2VlIGIvNjIxMTU2NjAuCiAgICBsZXQgcG9zaXRpb24gPSAwOwogICAgZG8gewogICAgICBjb25zdCBsZW5ndGggPSBNYXRoLm1pbihmaWxlRGF0YS5ieXRlTGVuZ3RoIC0gcG9zaXRpb24sIE1BWF9QQVlMT0FEX1NJWkUpOwogICAgICBjb25zdCBjaHVuayA9IG5ldyBVaW50OEFycmF5KGZpbGVEYXRhLCBwb3NpdGlvbiwgbGVuZ3RoKTsKICAgICAgcG9zaXRpb24gKz0gbGVuZ3RoOwoKICAgICAgY29uc3QgYmFzZTY0ID0gYnRvYShTdHJpbmcuZnJvbUNoYXJDb2RlLmFwcGx5KG51bGwsIGNodW5rKSk7CiAgICAgIHlpZWxkIHsKICAgICAgICByZXNwb25zZTogewogICAgICAgICAgYWN0aW9uOiAnYXBwZW5kJywKICAgICAgICAgIGZpbGU6IGZpbGUubmFtZSwKICAgICAgICAgIGRhdGE6IGJhc2U2NCwKICAgICAgICB9LAogICAgICB9OwoKICAgICAgbGV0IHBlcmNlbnREb25lID0gZmlsZURhdGEuYnl0ZUxlbmd0aCA9PT0gMCA/CiAgICAgICAgICAxMDAgOgogICAgICAgICAgTWF0aC5yb3VuZCgocG9zaXRpb24gLyBmaWxlRGF0YS5ieXRlTGVuZ3RoKSAqIDEwMCk7CiAgICAgIHBlcmNlbnQudGV4dENvbnRlbnQgPSBgJHtwZXJjZW50RG9uZX0lIGRvbmVgOwoKICAgIH0gd2hpbGUgKHBvc2l0aW9uIDwgZmlsZURhdGEuYnl0ZUxlbmd0aCk7CiAgfQoKICAvLyBBbGwgZG9uZS4KICB5aWVsZCB7CiAgICByZXNwb25zZTogewogICAgICBhY3Rpb246ICdjb21wbGV0ZScsCiAgICB9CiAgfTsKfQoKc2NvcGUuZ29vZ2xlID0gc2NvcGUuZ29vZ2xlIHx8IHt9OwpzY29wZS5nb29nbGUuY29sYWIgPSBzY29wZS5nb29nbGUuY29sYWIgfHwge307CnNjb3BlLmdvb2dsZS5jb2xhYi5fZmlsZXMgPSB7CiAgX3VwbG9hZEZpbGVzLAogIF91cGxvYWRGaWxlc0NvbnRpbnVlLAp9Owp9KShzZWxmKTsK",
              "ok": true,
              "headers": [
                [
                  "content-type",
                  "application/javascript"
                ]
              ],
              "status": 200,
              "status_text": ""
            }
          },
          "base_uri": "https://localhost:8080/",
          "height": 140
        },
        "outputId": "6f57f26e-e887-4e7d-ba4e-914981da77d3"
      },
      "source": [
        "from google.colab import files\n",
        "\n",
        "uploaded = files.upload()\n",
        "\n",
        "for fn in uploaded.keys():\n",
        "  print('User uploaded file \"{name}\" with length {length} bytes'.format(\n",
        "      name=fn, length=len(uploaded[fn])))"
      ],
      "execution_count": null,
      "outputs": [
        {
          "output_type": "display_data",
          "data": {
            "text/html": [
              "\n",
              "     <input type=\"file\" id=\"files-1d72d8d7-9648-4514-872c-616217632dc2\" name=\"files[]\" multiple disabled\n",
              "        style=\"border:none\" />\n",
              "     <output id=\"result-1d72d8d7-9648-4514-872c-616217632dc2\">\n",
              "      Upload widget is only available when the cell has been executed in the\n",
              "      current browser session. Please rerun this cell to enable.\n",
              "      </output>\n",
              "      <script src=\"/nbextensions/google.colab/files.js\"></script> "
            ],
            "text/plain": [
              "<IPython.core.display.HTML object>"
            ]
          },
          "metadata": {
            "tags": []
          }
        },
        {
          "output_type": "stream",
          "text": [
            "Saving chilean_bands.txt to chilean_bands.txt\n",
            "Saving chilean_bands_albums.txt to chilean_bands_albums.txt\n",
            "User uploaded file \"chilean_bands.txt\" with length 38 bytes\n",
            "User uploaded file \"chilean_bands_albums.txt\" with length 471 bytes\n"
          ],
          "name": "stdout"
        }
      ]
    },
    {
      "cell_type": "code",
      "metadata": {
        "id": "bZ2KjpiAbpUn",
        "colab": {
          "base_uri": "https://localhost:8080/"
        },
        "outputId": "5cb5536b-f24e-456c-9d89-7d9400933a66"
      },
      "source": [
        "!hdfs dfs -mkdir chilean_bands\n",
        "!hdfs dfs -mkdir chilean_albums\n",
        "!hdfs dfs -put chilean_bands.txt chilean_bands\n",
        "!hdfs dfs -put chilean_bands_albums.txt chilean_albums"
      ],
      "execution_count": null,
      "outputs": [
        {
          "output_type": "stream",
          "text": [
            "mkdir: `chilean_bands': File exists\n",
            "mkdir: `chilean_albums': File exists\n",
            "put: `chilean_bands/chilean_bands.txt': File exists\n",
            "put: `chilean_albums/chilean_bands_albums.txt': File exists\n"
          ],
          "name": "stdout"
        }
      ]
    },
    {
      "cell_type": "code",
      "metadata": {
        "id": "2KO-dlq2Wnc4",
        "colab": {
          "base_uri": "https://localhost:8080/"
        },
        "outputId": "4d769875-ce7a-49ec-f984-db05587f143b"
      },
      "source": [
        "!hdfs dfs -cat chilean_bands/chilean_bands.txt"
      ],
      "execution_count": null,
      "outputs": [
        {
          "output_type": "stream",
          "text": [
            "1,La Ley\n",
            "2,Los Tres\n",
            "3,Los Prisioneros\n"
          ],
          "name": "stdout"
        }
      ]
    },
    {
      "cell_type": "code",
      "metadata": {
        "id": "-RlxMUgsaUAG",
        "colab": {
          "base_uri": "https://localhost:8080/"
        },
        "outputId": "c6f24533-df56-475f-e684-ba117166a3e0"
      },
      "source": [
        "%%writefile create_tables.sql\n",
        "\n",
        "CREATE TABLE chilean_bands (artist_id INT, name STRING) ROW FORMAT DELIMITED FIELDS TERMINATED BY ',';\n",
        "LOAD DATA INPATH 'chilean_bands' INTO table chilean_bands;\n",
        "\n",
        "CREATE TABLE chilean_albums (album_id INT, name STRING, year INT, artist_id INT) ROW FORMAT DELIMITED FIELDS TERMINATED BY ',';\n",
        "LOAD DATA INPATH 'chilean_albums' INTO table chilean_albums;"
      ],
      "execution_count": null,
      "outputs": [
        {
          "output_type": "stream",
          "text": [
            "Writing create_tables.sql\n"
          ],
          "name": "stdout"
        }
      ]
    },
    {
      "cell_type": "code",
      "metadata": {
        "id": "NVvmHjohc7-M",
        "colab": {
          "base_uri": "https://localhost:8080/"
        },
        "outputId": "f3c61893-76ff-4dda-e1a6-a937be115727"
      },
      "source": [
        "!hive -f create_tables.sql"
      ],
      "execution_count": null,
      "outputs": [
        {
          "output_type": "stream",
          "text": [
            "SLF4J: Class path contains multiple SLF4J bindings.\n",
            "SLF4J: Found binding in [jar:file:/content/apache-hive-2.3.7-bin/lib/log4j-slf4j-impl-2.6.2.jar!/org/slf4j/impl/StaticLoggerBinder.class]\n",
            "SLF4J: Found binding in [jar:file:/content/hadoop-2.10.0/share/hadoop/common/lib/slf4j-log4j12-1.7.25.jar!/org/slf4j/impl/StaticLoggerBinder.class]\n",
            "SLF4J: See http://www.slf4j.org/codes.html#multiple_bindings for an explanation.\n",
            "SLF4J: Actual binding is of type [org.apache.logging.slf4j.Log4jLoggerFactory]\n",
            "\n",
            "Logging initialized using configuration in jar:file:/content/apache-hive-2.3.7-bin/lib/hive-common-2.3.7.jar!/hive-log4j2.properties Async: true\n",
            "OK\n",
            "Time taken: 8.606 seconds\n",
            "Loading data to table default.chilean_bands\n",
            "OK\n",
            "Time taken: 1.295 seconds\n",
            "OK\n",
            "Time taken: 0.18 seconds\n",
            "Loading data to table default.chilean_albums\n",
            "OK\n",
            "Time taken: 0.508 seconds\n"
          ],
          "name": "stdout"
        }
      ]
    },
    {
      "cell_type": "code",
      "metadata": {
        "id": "h39FMnHQ3Z-M",
        "colab": {
          "base_uri": "https://localhost:8080/"
        },
        "outputId": "89bd4707-a1ac-4524-f26f-8f986aa1ff4d"
      },
      "source": [
        "!hive"
      ],
      "execution_count": null,
      "outputs": [
        {
          "output_type": "stream",
          "text": [
            "SLF4J: Class path contains multiple SLF4J bindings.\n",
            "SLF4J: Found binding in [jar:file:/content/apache-hive-2.3.7-bin/lib/log4j-slf4j-impl-2.6.2.jar!/org/slf4j/impl/StaticLoggerBinder.class]\n",
            "SLF4J: Found binding in [jar:file:/content/hadoop-2.10.0/share/hadoop/common/lib/slf4j-log4j12-1.7.25.jar!/org/slf4j/impl/StaticLoggerBinder.class]\n",
            "SLF4J: See http://www.slf4j.org/codes.html#multiple_bindings for an explanation.\n",
            "SLF4J: Actual binding is of type [org.apache.logging.slf4j.Log4jLoggerFactory]\n",
            "\n",
            "Logging initialized using configuration in jar:file:/content/apache-hive-2.3.7-bin/lib/hive-common-2.3.7.jar!/hive-log4j2.properties Async: true\n",
            "Hive-on-MR is deprecated in Hive 2 and may not be available in the future versions. Consider using a different execution engine (i.e. spark, tez) or using Hive 1.X releases.\n",
            "hive> show tables;\n",
            "OK\n",
            "tab_name\n",
            "albums\n",
            "artists\n",
            "chilean_albums\n",
            "chilean_bands\n",
            "hivealbums\n",
            "Time taken: 7.09 seconds, Fetched: 5 row(s)\n",
            "hive> select * from chilean_bands;\n",
            "OK\n",
            "chilean_bands.artist_id\tchilean_bands.name\n",
            "1\tLa Ley\n",
            "2\tLos Tres\n",
            "3\tLos Prisioneros\n",
            "Time taken: 2.238 seconds, Fetched: 3 row(s)\n",
            "hive> select * from chilean_albums;\n",
            "OK\n",
            "chilean_albums.album_id\tchilean_albums.name\tchilean_albums.year\tchilean_albums.artist_id\n",
            "1\tDesiertos\t1990\t1\n",
            "2\tDoble opuesto\t1991\t1\n",
            "3\tLa Ley\t1993\t1\n",
            "4\tInvisible\t1995\t1\n",
            "5\tVertigo\t1998\t1\n",
            "6\tUno\t2000\t1\n",
            "7\tLibertad\t2003\t1\n",
            "8\tAdaptacion\t2016\t1\n",
            "9\tLos Tres\t1991\t2\n",
            "10\tSe remata el siglo\t1993\t2\n",
            "11\tLa espada & la pared\t1995\t2\n",
            "12\tFome\t1997\t2\n",
            "13\tLa sangre en el cuerpo\t1999\t2\n",
            "14\tHágalo usted mismo\t2006\t2\n",
            "15\tColiumo\t2010\t2\n",
            "16\tLa voz de los 80\t1984\t3\n",
            "17\tPateando piedras\t1986\t3\n",
            "18\tLa cultura de la basura\t1987\t3\n",
            "19\tCorazones\t1990\t3\n",
            "20\tLos Prisioneros\t2003\t3\n",
            "21\tManzana\t2004\t3\n",
            "Time taken: 0.365 seconds, Fetched: 21 row(s)\n",
            "hive> describe chilean_bands;\n",
            "OK\n",
            "col_name\tdata_type\tcomment\n",
            "artist_id           \tint                 \t                    \n",
            "name                \tstring              \t                    \n",
            "Time taken: 0.155 seconds, Fetched: 2 row(s)\n",
            "hive> exit\n",
            "    > ;\n"
          ],
          "name": "stdout"
        }
      ]
    },
    {
      "cell_type": "code",
      "metadata": {
        "id": "bf2-G5zwchCf",
        "colab": {
          "base_uri": "https://localhost:8080/"
        },
        "outputId": "3b32083b-4531-4c92-aa69-d7125bb53bac"
      },
      "source": [
        "!hdfs dfs -ls /user/hive/warehouse"
      ],
      "execution_count": null,
      "outputs": [
        {
          "output_type": "stream",
          "text": [
            "Found 5 items\n",
            "drwxrwxr-x   - root supergroup          0 2021-08-02 20:28 /user/hive/warehouse/albums\n",
            "drwxrwxr-x   - root supergroup          0 2021-08-02 21:16 /user/hive/warehouse/artists\n",
            "drwxrwxr-x   - root supergroup          0 2021-08-02 21:23 /user/hive/warehouse/chilean_albums\n",
            "drwxrwxr-x   - root supergroup          0 2021-08-02 21:23 /user/hive/warehouse/chilean_bands\n",
            "drwxrwxr-x   - root supergroup          0 2021-08-02 20:24 /user/hive/warehouse/hivealbums\n"
          ],
          "name": "stdout"
        }
      ]
    },
    {
      "cell_type": "code",
      "metadata": {
        "id": "EhcFEmPcc_oT"
      },
      "source": [
        "!hdfs dfs -ls chilean_bands"
      ],
      "execution_count": null,
      "outputs": []
    },
    {
      "cell_type": "code",
      "metadata": {
        "id": "-OorP321cQ9l",
        "colab": {
          "base_uri": "https://localhost:8080/"
        },
        "outputId": "015e3e0e-f015-4e16-f9f4-ae7bd7ed5bcd"
      },
      "source": [
        "%%writefile drop_tables.sql\n",
        "\n",
        "DROP TABLE chilean_bands;\n",
        "DROP TABLE chilean_albums;"
      ],
      "execution_count": null,
      "outputs": [
        {
          "output_type": "stream",
          "text": [
            "Writing drop_tables.sql\n"
          ],
          "name": "stdout"
        }
      ]
    },
    {
      "cell_type": "code",
      "metadata": {
        "id": "QUY_B77IcPVE",
        "colab": {
          "base_uri": "https://localhost:8080/"
        },
        "outputId": "a188c254-3926-46f6-e5f9-16450418f509"
      },
      "source": [
        "!hive -f drop_tables.sql"
      ],
      "execution_count": null,
      "outputs": [
        {
          "output_type": "stream",
          "text": [
            "SLF4J: Class path contains multiple SLF4J bindings.\n",
            "SLF4J: Found binding in [jar:file:/content/apache-hive-2.3.7-bin/lib/log4j-slf4j-impl-2.6.2.jar!/org/slf4j/impl/StaticLoggerBinder.class]\n",
            "SLF4J: Found binding in [jar:file:/content/hadoop-2.10.0/share/hadoop/common/lib/slf4j-log4j12-1.7.25.jar!/org/slf4j/impl/StaticLoggerBinder.class]\n",
            "SLF4J: See http://www.slf4j.org/codes.html#multiple_bindings for an explanation.\n",
            "SLF4J: Actual binding is of type [org.apache.logging.slf4j.Log4jLoggerFactory]\n",
            "\n",
            "Logging initialized using configuration in jar:file:/content/apache-hive-2.3.7-bin/lib/hive-common-2.3.7.jar!/hive-log4j2.properties Async: true\n",
            "OK\n",
            "Time taken: 8.327 seconds\n",
            "OK\n",
            "Time taken: 0.258 seconds\n"
          ],
          "name": "stdout"
        }
      ]
    },
    {
      "cell_type": "code",
      "metadata": {
        "id": "7bog6pTydN9M",
        "colab": {
          "base_uri": "https://localhost:8080/"
        },
        "outputId": "eb44d2eb-5c6c-46c9-9b6f-4a9ac9e435ac"
      },
      "source": [
        "!hdfs dfs -ls /user/hive/warehouse"
      ],
      "execution_count": null,
      "outputs": [
        {
          "output_type": "stream",
          "text": [
            "Found 3 items\n",
            "drwxrwxr-x   - root supergroup          0 2021-08-02 20:28 /user/hive/warehouse/albums\n",
            "drwxrwxr-x   - root supergroup          0 2021-08-02 21:16 /user/hive/warehouse/artists\n",
            "drwxrwxr-x   - root supergroup          0 2021-08-02 20:24 /user/hive/warehouse/hivealbums\n"
          ],
          "name": "stdout"
        }
      ]
    },
    {
      "cell_type": "markdown",
      "metadata": {
        "id": "HuzigurUdMbT"
      },
      "source": [
        "**Creación de tablas con datos externos:**\n",
        "\n",
        "<br><br>\n",
        "\n",
        "CREATE **EXTERNAL** TABLE \\<table_name\\> \\<fields\\>\n",
        "\n",
        "ROW FORMAT DELIMITED FIELDS TERMINATED BY ','\n",
        "\n",
        "**LOCATION** \\<data_path\\>;"
      ]
    }
  ]
}